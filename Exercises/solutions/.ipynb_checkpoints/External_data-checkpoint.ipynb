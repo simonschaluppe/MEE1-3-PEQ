{
 "cells": [
  {
   "cell_type": "markdown",
   "metadata": {
    "collapsed": true,
    "pycharm": {
     "name": "#%% md\n"
    }
   },
   "source": [
    "# External Data\n",
    "## CityBike\n",
    "Write a function that lists all the nearest citybike stations to a given location.\n",
    "\n",
    "When starting a project like this it is useful to think about the steps required to arrive at the final solution.\n",
    "in the case of the citybike example, this could look something like this:\n",
    "* get the citybike data from the web\n",
    "    * in particular, get the location of the stations\n",
    "* calculate the distances from the station locations to a given point\n",
    "* wrap and format everything nicely\n",
    "\n",
    "### Exploring the data\n",
    "first, let's check out the available data on citybikes to see what we are working with. You can also look at this in a webbrowser\n",
    "but beware: [Humans should never gaze upon unfiltered data!](https://rackandstack-tech.blog/2019/11/12/the-mental-game-of-python-raymond-hettinger/)\n",
    "\n",
    "\n",
    "http://dynamisch.citybikewien.at/citybike_xml.php?json"
   ]
  },
  {
   "cell_type": "code",
   "execution_count": 1,
   "metadata": {
    "pycharm": {
     "name": "#%%\n"
    }
   },
   "outputs": [
    {
     "data": {
      "text/plain": [
       "(<Response [200]>, requests.models.Response)"
      ]
     },
     "execution_count": 1,
     "metadata": {},
     "output_type": "execute_result"
    }
   ],
   "source": [
    "import requests\n",
    "\n",
    "data = requests.get(url=\"http://dynamisch.citybikewien.at/citybike_xml.php?json\")\n",
    "data, type(data)"
   ]
  },
  {
   "cell_type": "markdown",
   "metadata": {
    "pycharm": {
     "name": "#%% md\n"
    }
   },
   "source": [
    "whats that Response object? what can we do with it?\n",
    "\n",
    "we can look in the [documentation here]() or just look at the ```help(on_something_please)``` directly"
   ]
  },
  {
   "cell_type": "code",
   "execution_count": 2,
   "metadata": {
    "pycharm": {
     "name": "#%%\n"
    }
   },
   "outputs": [
    {
     "name": "stdout",
     "output_type": "stream",
     "text": [
      "Help on Response in module requests.models object:\n",
      "\n",
      "class Response(builtins.object)\n",
      " |  The :class:`Response <Response>` object, which contains a\n",
      " |  server's response to an HTTP request.\n",
      " |  \n",
      " |  Methods defined here:\n",
      " |  \n",
      " |  __bool__(self)\n",
      " |      Returns True if :attr:`status_code` is less than 400.\n",
      " |      \n",
      " |      This attribute checks if the status code of the response is between\n",
      " |      400 and 600 to see if there was a client error or a server error. If\n",
      " |      the status code, is between 200 and 400, this will return True. This\n",
      " |      is **not** a check to see if the response code is ``200 OK``.\n",
      " |  \n",
      " |  __enter__(self)\n",
      " |  \n",
      " |  __exit__(self, *args)\n",
      " |  \n",
      " |  __getstate__(self)\n",
      " |  \n",
      " |  __init__(self)\n",
      " |      Initialize self.  See help(type(self)) for accurate signature.\n",
      " |  \n",
      " |  __iter__(self)\n",
      " |      Allows you to use a response as an iterator.\n",
      " |  \n",
      " |  __nonzero__(self)\n",
      " |      Returns True if :attr:`status_code` is less than 400.\n",
      " |      \n",
      " |      This attribute checks if the status code of the response is between\n",
      " |      400 and 600 to see if there was a client error or a server error. If\n",
      " |      the status code, is between 200 and 400, this will return True. This\n",
      " |      is **not** a check to see if the response code is ``200 OK``.\n",
      " |  \n",
      " |  __repr__(self)\n",
      " |      Return repr(self).\n",
      " |  \n",
      " |  __setstate__(self, state)\n",
      " |  \n",
      " |  close(self)\n",
      " |      Releases the connection back to the pool. Once this method has been\n",
      " |      called the underlying ``raw`` object must not be accessed again.\n",
      " |      \n",
      " |      *Note: Should not normally need to be called explicitly.*\n",
      " |  \n",
      " |  iter_content(self, chunk_size=1, decode_unicode=False)\n",
      " |      Iterates over the response data.  When stream=True is set on the\n",
      " |      request, this avoids reading the content at once into memory for\n",
      " |      large responses.  The chunk size is the number of bytes it should\n",
      " |      read into memory.  This is not necessarily the length of each item\n",
      " |      returned as decoding can take place.\n",
      " |      \n",
      " |      chunk_size must be of type int or None. A value of None will\n",
      " |      function differently depending on the value of `stream`.\n",
      " |      stream=True will read data as it arrives in whatever size the\n",
      " |      chunks are received. If stream=False, data is returned as\n",
      " |      a single chunk.\n",
      " |      \n",
      " |      If decode_unicode is True, content will be decoded using the best\n",
      " |      available encoding based on the response.\n",
      " |  \n",
      " |  iter_lines(self, chunk_size=512, decode_unicode=False, delimiter=None)\n",
      " |      Iterates over the response data, one line at a time.  When\n",
      " |      stream=True is set on the request, this avoids reading the\n",
      " |      content at once into memory for large responses.\n",
      " |      \n",
      " |      .. note:: This method is not reentrant safe.\n",
      " |  \n",
      " |  json(self, **kwargs)\n",
      " |      Returns the json-encoded content of a response, if any.\n",
      " |      \n",
      " |      :param \\*\\*kwargs: Optional arguments that ``json.loads`` takes.\n",
      " |      :raises ValueError: If the response body does not contain valid json.\n",
      " |  \n",
      " |  raise_for_status(self)\n",
      " |      Raises :class:`HTTPError`, if one occurred.\n",
      " |  \n",
      " |  ----------------------------------------------------------------------\n",
      " |  Readonly properties defined here:\n",
      " |  \n",
      " |  apparent_encoding\n",
      " |      The apparent encoding, provided by the chardet library.\n",
      " |  \n",
      " |  content\n",
      " |      Content of the response, in bytes.\n",
      " |  \n",
      " |  is_permanent_redirect\n",
      " |      True if this Response one of the permanent versions of redirect.\n",
      " |  \n",
      " |  is_redirect\n",
      " |      True if this Response is a well-formed HTTP redirect that could have\n",
      " |      been processed automatically (by :meth:`Session.resolve_redirects`).\n",
      " |  \n",
      " |  links\n",
      " |      Returns the parsed header links of the response, if any.\n",
      " |  \n",
      " |  next\n",
      " |      Returns a PreparedRequest for the next request in a redirect chain, if there is one.\n",
      " |  \n",
      " |  ok\n",
      " |      Returns True if :attr:`status_code` is less than 400, False if not.\n",
      " |      \n",
      " |      This attribute checks if the status code of the response is between\n",
      " |      400 and 600 to see if there was a client error or a server error. If\n",
      " |      the status code is between 200 and 400, this will return True. This\n",
      " |      is **not** a check to see if the response code is ``200 OK``.\n",
      " |  \n",
      " |  text\n",
      " |      Content of the response, in unicode.\n",
      " |      \n",
      " |      If Response.encoding is None, encoding will be guessed using\n",
      " |      ``chardet``.\n",
      " |      \n",
      " |      The encoding of the response content is determined based solely on HTTP\n",
      " |      headers, following RFC 2616 to the letter. If you can take advantage of\n",
      " |      non-HTTP knowledge to make a better guess at the encoding, you should\n",
      " |      set ``r.encoding`` appropriately before accessing this property.\n",
      " |  \n",
      " |  ----------------------------------------------------------------------\n",
      " |  Data descriptors defined here:\n",
      " |  \n",
      " |  __dict__\n",
      " |      dictionary for instance variables (if defined)\n",
      " |  \n",
      " |  __weakref__\n",
      " |      list of weak references to the object (if defined)\n",
      " |  \n",
      " |  ----------------------------------------------------------------------\n",
      " |  Data and other attributes defined here:\n",
      " |  \n",
      " |  __attrs__ = ['_content', 'status_code', 'headers', 'url', 'history', '...\n",
      "\n"
     ]
    }
   ],
   "source": [
    "help(data)"
   ]
  },
  {
   "cell_type": "code",
   "execution_count": 3,
   "metadata": {
    "pycharm": {
     "name": "#%%\n"
    }
   },
   "outputs": [
    {
     "data": {
      "text/plain": [
       "'application/json;charset=utf-8'"
      ]
     },
     "execution_count": 3,
     "metadata": {},
     "output_type": "execute_result"
    }
   ],
   "source": [
    "data.headers['content-type']"
   ]
  },
  {
   "cell_type": "markdown",
   "metadata": {
    "pycharm": {
     "name": "#%% md\n"
    }
   },
   "source": [
    "The url *AND* header info on the content type suggest that the response can in fact be interpreted as json format.\n",
    "\n",
    "As the old saying goes:\n",
    "> if it looks like a duck\n",
    ">\n",
    "> and quacks like a duck...\n",
    ">\n",
    "> it probably is a duck\n",
    "\n",
    "So let's try interpreting the response as json:"
   ]
  },
  {
   "cell_type": "code",
   "execution_count": 4,
   "metadata": {
    "pycharm": {
     "name": "#%%\n"
    }
   },
   "outputs": [],
   "source": [
    "cb_json = data.json()"
   ]
  },
  {
   "cell_type": "code",
   "execution_count": 5,
   "metadata": {
    "pycharm": {
     "name": "#%%\n"
    }
   },
   "outputs": [
    {
     "data": {
      "text/plain": [
       "118"
      ]
     },
     "execution_count": 5,
     "metadata": {},
     "output_type": "execute_result"
    }
   ],
   "source": [
    "# how many items are in there? (what's the len()gth)\n",
    "len(cb_json)"
   ]
  },
  {
   "cell_type": "markdown",
   "metadata": {
    "pycharm": {
     "name": "#%% md\n"
    }
   },
   "source": [
    "so the json interpretation yields us a list with 119 entries.let's see what they hold"
   ]
  },
  {
   "cell_type": "code",
   "execution_count": 6,
   "metadata": {
    "pycharm": {
     "name": "#%%\n"
    }
   },
   "outputs": [
    {
     "name": "stdout",
     "output_type": "stream",
     "text": [
      "example: First Element: cb_json[0]\n"
     ]
    },
    {
     "data": {
      "text/plain": [
       "{'id': 108,\n",
       " 'name': 'Friedrich Schmidtplatz',\n",
       " 'status': 'aktiv',\n",
       " 'description': 'Ecke Lichtenfelsgasse U2 Station Rathaus',\n",
       " 'boxes': 24,\n",
       " 'free_boxes': 18,\n",
       " 'free_bikes': 6,\n",
       " 'longitude': 16.356581,\n",
       " 'latitude': 48.211433,\n",
       " 'internal_id': 1026}"
      ]
     },
     "execution_count": 6,
     "metadata": {},
     "output_type": "execute_result"
    }
   ],
   "source": [
    "print(\"example: First Element: cb_json[0]\")\n",
    "cb_json[0]"
   ]
  },
  {
   "cell_type": "markdown",
   "metadata": {
    "pycharm": {
     "name": "#%% md\n"
    }
   },
   "source": [
    "Perfect! Each element in the list is a dictionary, representing the data on a particular city bike station.\n",
    "Apart from the name, status, description and how many bikes and boxes are available, we also have the positional information\n",
    "on the location of the stations as latitude and longitude coordinates\n",
    "\n",
    "To use this, we first need a way to calculate the distance between two locations.\n",
    "So let's write a function, that takes two positions and returns their distance:"
   ]
  },
  {
   "cell_type": "code",
   "execution_count": 7,
   "metadata": {
    "pycharm": {
     "name": "#%%\n"
    }
   },
   "outputs": [],
   "source": [
    "from math import sqrt\n",
    "\n",
    "def distance(a: tuple, b: tuple):\n",
    "    \"\"\"\n",
    "    Returns the 2D distance of 2 points represented as tuples\n",
    "    :param a: tuple(x: float, y: float)\n",
    "    :param b: tuple(x: float, y: float\n",
    "    :return:  Distance\n",
    "    \"\"\"\n",
    "    dx = abs(a[0] - b[0])\n",
    "    dy = abs(a[1] - b[1])\n",
    "    return sqrt(dx**2 + dy**2)"
   ]
  },
  {
   "cell_type": "markdown",
   "metadata": {
    "pycharm": {
     "name": "#%% md\n"
    }
   },
   "source": [
    "Let's do some tests"
   ]
  },
  {
   "cell_type": "code",
   "execution_count": 8,
   "metadata": {
    "pycharm": {
     "name": "#%%\n"
    }
   },
   "outputs": [
    {
     "data": {
      "text/plain": [
       "5.0"
      ]
     },
     "execution_count": 8,
     "metadata": {},
     "output_type": "execute_result"
    }
   ],
   "source": [
    "distance((0,4), (3,0))"
   ]
  },
  {
   "cell_type": "code",
   "execution_count": 9,
   "metadata": {
    "pycharm": {
     "name": "#%%\n"
    }
   },
   "outputs": [
    {
     "data": {
      "text/plain": [
       "7.0"
      ]
     },
     "execution_count": 9,
     "metadata": {},
     "output_type": "execute_result"
    }
   ],
   "source": [
    "distance((0,-4), (0,3))"
   ]
  },
  {
   "cell_type": "code",
   "execution_count": 10,
   "metadata": {
    "pycharm": {
     "name": "#%%\n"
    }
   },
   "outputs": [
    {
     "data": {
      "text/plain": [
       "((16.356581, 48.211433), (16.37298586854365, 48.210666083418))"
      ]
     },
     "execution_count": 10,
     "metadata": {},
     "output_type": "execute_result"
    }
   ],
   "source": [
    "station1 = (cb_json[0][\"longitude\"], cb_json[0][\"latitude\"])\n",
    "station2 = (cb_json[1][\"longitude\"], cb_json[1][\"latitude\"])\n",
    "station1, station2"
   ]
  },
  {
   "cell_type": "code",
   "execution_count": 11,
   "metadata": {
    "pycharm": {
     "name": "#%%\n"
    }
   },
   "outputs": [
    {
     "data": {
      "text/plain": [
       "0.016422785177255206"
      ]
     },
     "execution_count": 11,
     "metadata": {},
     "output_type": "execute_result"
    }
   ],
   "source": [
    "distance(station1, station2)"
   ]
  },
  {
   "cell_type": "markdown",
   "metadata": {
    "pycharm": {
     "name": "#%% md\n"
    }
   },
   "source": [
    "It works, but what does that actually mean?\n",
    "\n",
    "What units is the result in? Give it a minute of thought"
   ]
  },
  {
   "cell_type": "markdown",
   "metadata": {
    "pycharm": {
     "name": "#%% md\n"
    }
   },
   "source": [
    "### Distances on earth\n",
    "Since latitude and longitude are actually angles on the sphere of the earth,\n",
    "we need to take this into account.\n",
    "We actually need to convert the difference in latitude and longitude in meters on the surface.\n",
    "you remember your sin/cos and the radius of the earth, right?\n",
    "\n",
    "Also, the earth is not actually a sphere, but an ellipsoid. That means that the closer we are to the poles,\n",
    "the bigger the actual distance on the surface per angle.\n",
    "\n",
    "So the question is: How do we calculate a distance on the earth between two coordinates?\n",
    "\n",
    "### Python's USP\n",
    "This is where the open source nature and the rich ecosystem of python really shine:\n",
    "As with many other common problems, there sure is a third party library by someone who has already\n",
    "solved the problem. And much better tested, and more precise than we ever could.\n",
    "\n",
    "Quick google search \"python distance latitude longitude\" reveals an appropriate answer:\n",
    "https://geopy.readthedocs.io/en/stable/#"
   ]
  },
  {
   "cell_type": "code",
   "execution_count": 12,
   "metadata": {
    "pycharm": {
     "name": "#%%\n"
    }
   },
   "outputs": [
    {
     "ename": "ModuleNotFoundError",
     "evalue": "No module named 'geopy'",
     "output_type": "error",
     "traceback": [
      "\u001b[1;31m---------------------------------------------------------------------------\u001b[0m",
      "\u001b[1;31mModuleNotFoundError\u001b[0m                       Traceback (most recent call last)",
      "\u001b[1;32m<ipython-input-12-87ce3cee18ba>\u001b[0m in \u001b[0;36m<module>\u001b[1;34m\u001b[0m\n\u001b[1;32m----> 1\u001b[1;33m \u001b[1;32mimport\u001b[0m \u001b[0mgeopy\u001b[0m\u001b[1;33m.\u001b[0m\u001b[0mdistance\u001b[0m\u001b[1;33m\u001b[0m\u001b[1;33m\u001b[0m\u001b[0m\n\u001b[0m",
      "\u001b[1;31mModuleNotFoundError\u001b[0m: No module named 'geopy'"
     ]
    }
   ],
   "source": [
    "import geopy.distance"
   ]
  },
  {
   "cell_type": "code",
   "execution_count": 13,
   "metadata": {},
   "outputs": [
    {
     "name": "stdout",
     "output_type": "stream",
     "text": [
      "Collecting geopy\n",
      "  Downloading geopy-2.2.0-py3-none-any.whl (118 kB)\n",
      "Collecting geographiclib<2,>=1.49\n",
      "  Downloading geographiclib-1.52-py3-none-any.whl (38 kB)\n",
      "Installing collected packages: geographiclib, geopy\n",
      "Successfully installed geographiclib-1.52 geopy-2.2.0\n"
     ]
    }
   ],
   "source": [
    "!pip install geopy"
   ]
  },
  {
   "cell_type": "code",
   "execution_count": null,
   "metadata": {},
   "outputs": [],
   "source": []
  },
  {
   "cell_type": "markdown",
   "metadata": {
    "pycharm": {
     "name": "#%% md\n"
    }
   },
   "source": [
    "This import statement will most likely cause an error with your vanilla python installation.\n",
    "It is a third party library that first needs installation.\n",
    "There are many ways of installing it, the easiest is probably:\n",
    "\n",
    "Open a terminal/command line in your system and simply type:\n",
    "```terminal\n",
    "> pip install geopy\n",
    "```\n",
    "You should see some download bars and a success message. More on ```pip install``` here: https://realpython.com/what-is-pip/\n",
    "\n",
    "alternatively you can use [conda](https://docs.conda.io/projects/conda/en/latest/user-guide/concepts/installing-with-conda.html)\n",
    "\n",
    "Once that works, let's test the module"
   ]
  },
  {
   "cell_type": "code",
   "execution_count": 15,
   "metadata": {
    "pycharm": {
     "name": "#%%\n"
    }
   },
   "outputs": [
    {
     "name": "stdout",
     "output_type": "stream",
     "text": [
      "279.35290160430094 km\n"
     ]
    }
   ],
   "source": [
    "import geopy.distance \n",
    "\n",
    "coords_1 = (52.2296756, 21.0122287)\n",
    "coords_2 = (52.406374, 16.9251681)\n",
    "\n",
    "print(geopy.distance.distance(coords_1, coords_2))"
   ]
  },
  {
   "cell_type": "markdown",
   "metadata": {
    "pycharm": {
     "name": "#%% md\n"
    }
   },
   "source": [
    "Perfect - except for the unneccessary decimal precision\n",
    "Now let's try it with the citybike data."
   ]
  },
  {
   "cell_type": "code",
   "execution_count": 17,
   "metadata": {
    "pycharm": {
     "name": "#%%\n"
    }
   },
   "outputs": [
    {
     "data": {
      "text/plain": [
       "Distance(1.8172514919453264)"
      ]
     },
     "execution_count": 17,
     "metadata": {},
     "output_type": "execute_result"
    }
   ],
   "source": [
    "geopy.distance.distance(station1, station2)"
   ]
  },
  {
   "cell_type": "markdown",
   "metadata": {
    "pycharm": {
     "name": "#%% md\n"
    }
   },
   "source": [
    "Now let's define a  function that takes a location and calculate the distance to each station"
   ]
  },
  {
   "cell_type": "code",
   "execution_count": 18,
   "metadata": {
    "pycharm": {
     "name": "#%%\n"
    }
   },
   "outputs": [],
   "source": [
    "def list_nearest(location: tuple, list_of_stations):\n",
    "    for station in list_of_stations:\n",
    "        station_location = (station[\"latitude\"], station[\"longitude\"])\n",
    "        dist = geopy.distance.distance(location, station_location)\n",
    "        #save the ddistance in the station\n",
    "        station[\"distance\"] = round(dist.km, 1)\n",
    "    list_of_stations.sort(key=lambda d: d[\"distance\"], reverse=False)\n",
    "    return list_of_stations"
   ]
  },
  {
   "cell_type": "markdown",
   "metadata": {
    "pycharm": {
     "name": "#%% md\n"
    }
   },
   "source": [
    "ok that was a little bit cheating here to sort the list according to a value in a member\n"
   ]
  },
  {
   "cell_type": "markdown",
   "metadata": {
    "pycharm": {
     "name": "#%% md\n"
    }
   },
   "source": [
    "Coordinates of the Energybase are\n",
    "48.2696523, 16.4271389 according to google maps\n",
    "\n",
    "And here's the nearest CityBike Stations:"
   ]
  },
  {
   "cell_type": "code",
   "execution_count": 19,
   "metadata": {
    "pycharm": {
     "name": "#%%\n"
    }
   },
   "outputs": [
    {
     "name": "stdout",
     "output_type": "stream",
     "text": [
      "  1. [4.4 km] Millennium Tower     -  9/35\n",
      "  2. [4.6 km] Friedrich Engels Pla - 11/27\n",
      "  3. [5.0 km] Hellwagstraße        -  3/30\n",
      "  4. [5.1 km] Traisengasse         -  0/24\n",
      "  5. [5.6 km] Radingerstraße       - 10/33\n",
      "  6. [5.7 km] Jägerstraße U6       -  9/26\n",
      "  7. [6.0 km] Messeplatz           -  1/40\n",
      "  8. [6.0 km] Wallensteinplatz     -  4/27\n",
      "  9. [6.2 km] Krieau               -  8/24\n",
      " 10. [6.3 km] Heinestraße          - 10/38\n",
      " 11. [6.3 km] Praterstern          -  1/40\n",
      " 12. [6.4 km] Spittelau U4/U6      -  1/26\n",
      " 13. [6.5 km] Novaragasse          - 23/24\n",
      " 14. [6.5 km] Südportalstraße      -  6/40\n",
      " 15. [6.6 km] Stadion Center       - 25/40\n",
      " 16. [6.6 km] Friedensbrücke       -  5/26\n",
      " 17. [6.7 km] Nepomukgasse         - 12/15\n",
      " 18. [6.8 km] Althanstraße         - 16/22\n",
      " 19. [6.8 km] Roßauer Lände U4     - 25/28\n",
      " 20. [6.9 km] Julius-Tandler-Platz - 11/16\n",
      " 21. [6.9 km] Nussdorfer Straße U6 -  8/19\n",
      " 22. [6.9 km] Gymnasiumstraße      -  3/26\n",
      " 23. [7.0 km] Karmeliterplatz      - 13/14\n",
      " 24. [7.0 km] Obere Donaustraße    -  3/20\n",
      " 25. [7.1 km] Radetzkyplatz        - 12/28\n",
      " 26. [7.2 km] Schottenring U4      - 15/21\n",
      " 27. [7.2 km] Berggasse            -  9/40\n",
      " 28. [7.3 km] Julius Raab Platz    -  7/20\n",
      " 29. [7.3 km] Bauernfeldplatz      - 16/24\n",
      " 30. [7.3 km] Markthalle Alsergrun - 14/24\n",
      " 31. [7.4 km] Löblichgasse         - 13/23\n",
      " 32. [7.5 km] Schwedenplatz        - 11/30\n",
      " 33. [7.5 km] Kundmanngasse        - 13/27\n",
      " 34. [7.6 km] Boltzmanngasse       - 18/20\n",
      " 35. [7.7 km] Hoher Markt          -  7/26\n",
      " 36. [7.7 km] Wien Mitte           - 16/28\n",
      " 37. [7.7 km] Währinger Straße U6  -  8/20\n",
      " 38. [7.8 km] Stadtpark Stubenring -  1/20\n",
      " 39. [7.8 km] Sigmund Freud Park   - 36/36\n",
      " 40. [7.9 km] Salmgasse            - 12/18\n",
      " 41. [7.9 km] Sensengasse          - 13/20\n",
      " 42. [7.9 km] Gertrudplatz         -  4/24\n",
      " 43. [8.0 km] Singerstraße         - 19/22\n",
      " 44. [8.0 km] Wallnerstraße        - 26/27\n",
      " 45. [8.1 km] Universitätsring     - 18/38\n",
      " 46. [8.1 km] Frankhplatz          -  3/20\n",
      " 47. [8.2 km] Bahngasse            - 13/30\n",
      " 48. [8.2 km] Wassergasse          - 15/20\n",
      " 49. [8.2 km] Aumannplatz          -  0/24\n",
      " 50. [8.2 km] Michelbeuern         - 15/31\n",
      " 51. [8.3 km] Friedrich Schmidtpla -  6/24\n",
      " 52. [8.3 km] Johannesgasse        -  0/20\n",
      " 53. [8.3 km] Rathausplatz         - 19/20\n",
      " 54. [8.4 km] Gersthof             - 15/26\n",
      " 55. [8.5 km] Juchgasse            - 10/24\n",
      " 56. [8.5 km] Alser Straße/Feldgas -  6/12\n",
      " 57. [8.6 km] Kärntner Ring        - 10/16\n",
      " 58. [8.6 km] Oper                 -  8/23\n",
      " 59. [8.6 km] Volksgarten          - 15/16\n",
      " 60. [8.7 km] Schwarzenbergplatz   - 14/20\n",
      " 61. [8.7 km] Alser Straße U6      - 10/23\n",
      " 62. [8.7 km] Dornerplatz          - 11/24\n",
      " 63. [8.8 km] Petrusgasse          -  9/28\n",
      " 64. [8.8 km] Weghuberpark         - 11/20\n",
      " 65. [8.9 km] Fasanplatz           -  8/10\n",
      " 66. [8.9 km] Treitlstraße         - 14/20\n",
      " 67. [8.9 km] Museumsplatz         - 22/36\n",
      " 68. [8.9 km] Palffygasse          -  5/27\n",
      " 69. [9.0 km] Albertgasse          -  2/32\n",
      " 70. [9.0 km] Blumengasse          - 10/24\n",
      " 71. [9.1 km] Arbeiterkammer       - 20/24\n",
      " 72. [9.1 km] Josefstädter Straße  -  6/26\n",
      " 73. [9.1 km] Elterleinplatz       -  1/16\n",
      " 74. [9.2 km] Yppenplatz           -  3/25\n",
      " 75. [9.3 km] Schottenfeldgasse    - 11/27\n",
      " 76. [9.3 km] Siebensternplatz     -  2/19\n",
      " 77. [9.3 km] Rosensteingasse      -  1/24\n",
      " 78. [9.5 km] Heumühlgasse         -  9/20\n",
      " 79. [9.5 km] Brestelgasse         -  9/24\n",
      " 80. [9.5 km] Thaliastraße U6      -  0/28\n",
      " 81. [9.6 km] Mayerhofgasse        - 17/19\n",
      " 82. [9.6 km] Sankt-Elisabeth-Plat - 20/21\n",
      " 83. [9.7 km] Falco Stiege         -  7/17\n",
      " 84. [9.7 km] Kollergerngasse      -  2/20\n",
      " 85. [9.8 km] Hernals S45          -  1/30\n",
      " 86. [9.9 km] Burggasse U6         -  3/20\n",
      " 87. [9.9 km] Richard-Wagner-Platz -  1/25\n",
      " 88. [10.0 km] Hauptbahnhof         - 20/39\n",
      " 89. [10.1 km] Mittersteig          - 15/28\n",
      " 90. [10.1 km] Pilgramgasse U4      - 10/21\n",
      " 91. [10.1 km] Urban Loritz Platz   - 23/25\n",
      " 92. [10.1 km] Fröbelgasse          - 18/27\n",
      " 93. [10.2 km] Webgasse             -  2/14\n",
      " 94. [10.2 km] Hauptbahnhof West    - 20/40\n",
      " 95. [10.3 km] Hartmanngasse        - 23/26\n",
      " 96. [10.4 km] Markgraf-Rüdiger-Str - 19/32\n",
      " 97. [10.4 km] Westbahnhof Europapl -  5/40\n",
      " 98. [10.4 km] Westbahnhof Felberst - 20/40\n",
      " 99. [10.4 km] Schuhmeierplatz      -  4/24\n",
      "100. [10.6 km] Reinprechtsdorfer Br - 15/20\n",
      "101. [10.7 km] Schweglerstraße      -  9/26\n",
      "102. [10.7 km] Ottakring U3         - 13/39\n",
      "103. [10.9 km] Margaretengürtel U4  - 23/30\n",
      "104. [10.9 km] Siebenbrunnenplatz   -  3/26\n",
      "105. [10.9 km] Schmelzbrücke        - 18/24\n",
      "106. [11.0 km] Turnergasse          -  6/22\n",
      "107. [11.1 km] Gumpendorfer Gürtel  -  2/27\n",
      "108. [11.2 km] Matzleinsdorfer Plat - 14/24\n",
      "109. [11.2 km] Selzergasse          - 25/25\n",
      "110. [11.3 km] Arbeitergasse        - 21/26\n",
      "111. [11.3 km] Meiselmarkt          - 26/28\n",
      "112. [11.7 km] Wieningerplatz       -  9/25\n",
      "113. [11.8 km] Längenfeldgasse      - 12/25\n",
      "114. [12.0 km] Technisches Museum   -  9/31\n",
      "115. [12.3 km] Reschgasse           -  1/15\n",
      "116. [12.3 km] Schönbrunner Brücke  - 16/16\n",
      "117. [12.5 km] Schönbrunn Haupteing - 21/40\n",
      "118. [12.7 km] Vivenotgasse         - 15/24\n"
     ]
    }
   ],
   "source": [
    "energybase = (48.2696523, 16.4271389)\n",
    "result = list_nearest(energybase, cb_json)\n",
    "for i, station in enumerate(result):\n",
    "    #help with enumerate: https://realpython.com/python-enumerate/\n",
    "    print(f\"{i+1:3}. [{station['distance']:2.1f} km] {station['name'][:20]:20s} - {station['free_bikes']:2}/{station['boxes']}\")\n",
    "    #help on format strings: https://realpython.com/python-f-strings/#f-strings-a-new-and-improved-way-to-format-strings-in-python"
   ]
  },
  {
   "cell_type": "markdown",
   "metadata": {
    "pycharm": {
     "name": "#%% md\n"
    }
   },
   "source": [
    "Now let's check if this actually correct:\n",
    "https://www.google.com/search?client=firefox-b-d&tbs=lf:1,lf_ui:3&tbm=lcl&q=city+bike+terminal&rflfq=1&num=10&ved=2ahUKEwik7o_j3tPzAhXBlIsKHZHfCEcQtgN6BAgNEAQ#rlfi=hd:;si:5765786581731636286;mv:[[48.24762833716234,16.404557336422684],[48.235752855295445,16.375804055783036],null,[48.24169094084712,16.39018069610286],16]"
   ]
  },
  {
   "cell_type": "markdown",
   "metadata": {},
   "source": [
    "### Addresses as inputs\n",
    "Another thing that is still kinda messy, is that we need to come up with coordinates\n",
    "ourselves by looking up the address in google maps.\n",
    "Wouldn't it be much nicer, if we could just input an address to python directly, and it fetches the coordinates for us?\n",
    "\n",
    "It is relatively easy using open streetmaps\n",
    "\n",
    "#%"
   ]
  },
  {
   "cell_type": "code",
   "execution_count": 20,
   "metadata": {
    "pycharm": {
     "name": "#%%\n"
    }
   },
   "outputs": [
    {
     "data": {
      "text/plain": [
       "'Giefinggasse%206%2C%201020%20Wien'"
      ]
     },
     "execution_count": 20,
     "metadata": {},
     "output_type": "execute_result"
    }
   ],
   "source": [
    "\n",
    "address=\"Giefinggasse 6, 1020 Wien\"\n",
    "addurl = address.replace(\" \", \"%20\")\n",
    "addurl = addurl.replace(\",\", \"%2C\")\n",
    "addurl"
   ]
  },
  {
   "cell_type": "markdown",
   "metadata": {
    "pycharm": {
     "name": "#%% md\n"
    }
   },
   "source": [
    "the replacement of strings is necessary for the string to work as an url\n",
    "\n",
    "easier way to do it is using a dedicated library like such:"
   ]
  },
  {
   "cell_type": "code",
   "execution_count": 21,
   "metadata": {
    "pycharm": {
     "name": "#%%\n"
    }
   },
   "outputs": [
    {
     "data": {
      "text/plain": [
       "'Giefinggasse%206%2C%201020%20Wien'"
      ]
     },
     "execution_count": 21,
     "metadata": {},
     "output_type": "execute_result"
    }
   ],
   "source": [
    "import urllib.parse\n",
    "addurl = urllib.parse.quote(address)\n",
    "addurl"
   ]
  },
  {
   "cell_type": "code",
   "execution_count": 22,
   "metadata": {
    "pycharm": {
     "name": "#%%\n"
    }
   },
   "outputs": [
    {
     "data": {
      "text/plain": [
       "('48.2696395', '16.427355625558313')"
      ]
     },
     "execution_count": 22,
     "metadata": {},
     "output_type": "execute_result"
    }
   ],
   "source": [
    "url = 'https://nominatim.openstreetmap.org/search/' + urllib.parse.quote(addurl) +'?format=json'\n",
    "\n",
    "response = requests.get(url).json()\n",
    "location = (response[0][\"lat\"], response[0][\"lon\"])\n",
    "location"
   ]
  },
  {
   "cell_type": "markdown",
   "metadata": {
    "pycharm": {
     "name": "#%% md\n"
    }
   },
   "source": [
    "let's use this to create a function that takes an address and returns a location tuple"
   ]
  },
  {
   "cell_type": "code",
   "execution_count": 23,
   "metadata": {
    "pycharm": {
     "name": "#%%\n"
    }
   },
   "outputs": [
    {
     "data": {
      "text/plain": [
       "('48.2696395', '16.427355625558313')"
      ]
     },
     "execution_count": 23,
     "metadata": {},
     "output_type": "execute_result"
    }
   ],
   "source": [
    "def from_address(address_string=\"Stephansplatz, Wien, Österreich\"):\n",
    "    parsed_address = urllib.parse.quote(address_string)\n",
    "    url = 'https://nominatim.openstreetmap.org/search/' + parsed_address +'?format=json'\n",
    "    response = requests.get(url).json()\n",
    "    location = (response[0][\"lat\"], response[0][\"lon\"])\n",
    "    return location\n",
    "\n",
    "from_address(\"Giefinggasse 6, 1020 Wien, Österreich\")"
   ]
  },
  {
   "cell_type": "markdown",
   "metadata": {},
   "source": [
    "### Putting it all together\n",
    "Now let's create a function that puts all of this together:\n",
    "1. fetch the current citybike data\n",
    "2. calculates the\n",
    "\n",
    "some further sueful material:\n",
    "https://towardsdatascience.com/geocode-with-python-161ec1e62b89\n"
   ]
  },
  {
   "cell_type": "code",
   "execution_count": 24,
   "metadata": {
    "pycharm": {
     "name": "#%%\n"
    }
   },
   "outputs": [
    {
     "name": "stdout",
     "output_type": "stream",
     "text": [
      "10 nearest Stations to Arbeitergasse 5, Wien:\n",
      "_____________________\n",
      "  1. [0.1 km] Siebenbrunnenplatz   -  3/26\n",
      "  2. [0.4 km] Reinprechtsdorfer Br - 15/20\n",
      "  3. [0.5 km] Arbeitergasse        - 21/26\n",
      "  4. [0.7 km] Margaretengürtel U4  - 23/30\n",
      "  5. [0.7 km] Matzleinsdorfer Plat - 14/24\n",
      "  6. [0.8 km] Mittersteig          - 15/28\n",
      "  7. [0.8 km] Pilgramgasse U4      - 10/21\n",
      "  8. [0.9 km] Hartmanngasse        - 23/26\n",
      "  9. [1.1 km] Gumpendorfer Gürtel  -  2/27\n",
      " 10. [1.2 km] Falco Stiege         -  7/17\n"
     ]
    }
   ],
   "source": [
    "def closest_citybikes(address=\"Stephansplatz, Wien, Österreich\", num_results=10):\n",
    "    cb_data = requests.get(url=\"http://dynamisch.citybikewien.at/citybike_xml.php?json\")\n",
    "    cb_json = cb_data.json()\n",
    "\n",
    "    location = from_address(address)\n",
    "    result = list_nearest(location, list_of_stations=cb_json)\n",
    "\n",
    "    print(f\"{num_results} nearest Stations to {address}:\")\n",
    "    print(\"_\"*len(address))\n",
    "    for i, station in enumerate(result[:num_results]):\n",
    "        print(f\"{i+1:3}. [{station['distance']:2.1f} km] {station['name'][:20]:20s} - {station['free_bikes']:2}/{station['boxes']}\")\n",
    "\n",
    "closest_citybikes(\"Arbeitergasse 5, Wien\")"
   ]
  },
  {
   "cell_type": "code",
   "execution_count": 25,
   "metadata": {
    "pycharm": {
     "name": "#%%\n"
    }
   },
   "outputs": [
    {
     "name": "stdout",
     "output_type": "stream",
     "text": [
      "20 nearest Stations to Stephansplatz, Wien, Österreich:\n",
      "_______________________________\n",
      "  1. [0.1 km] Singerstraße         - 19/22\n",
      "  2. [0.3 km] Hoher Markt          -  7/26\n",
      "  3. [0.4 km] Wallnerstraße        - 26/27\n",
      "  4. [0.5 km] Schwedenplatz        - 11/30\n",
      "  5. [0.7 km] Johannesgasse        -  0/20\n",
      "  6. [0.7 km] Kärntner Ring        - 10/16\n",
      "  7. [0.7 km] Oper                 -  8/23\n",
      "  8. [0.7 km] Stadtpark Stubenring -  1/20\n",
      "  9. [0.8 km] Julius Raab Platz    -  7/20\n",
      " 10. [0.8 km] Schottenring U4      - 15/21\n",
      " 11. [0.9 km] Rathausplatz         - 19/20\n",
      " 12. [0.9 km] Universitätsring     - 18/38\n",
      " 13. [0.9 km] Volksgarten          - 15/16\n",
      " 14. [1.0 km] Karmeliterplatz      - 13/14\n",
      " 15. [1.0 km] Obere Donaustraße    -  3/20\n",
      " 16. [1.0 km] Wien Mitte           - 16/28\n",
      " 17. [1.0 km] Treitlstraße         - 14/20\n",
      " 18. [1.0 km] Sigmund Freud Park   - 36/36\n",
      " 19. [1.1 km] Schwarzenbergplatz   - 14/20\n",
      " 20. [1.1 km] Museumsplatz         - 22/36\n"
     ]
    }
   ],
   "source": [
    "closest_citybikes(num_results=20)"
   ]
  },
  {
   "cell_type": "code",
   "execution_count": 26,
   "metadata": {
    "pycharm": {
     "name": "#%%\n"
    }
   },
   "outputs": [
    {
     "name": "stdout",
     "output_type": "stream",
     "text": [
      "10 nearest Stations to Giefinggasse 6, Wien:\n",
      "____________________\n",
      "  1. [4.4 km] Millennium Tower     -  9/35\n",
      "  2. [4.6 km] Friedrich Engels Pla - 11/27\n",
      "  3. [5.0 km] Hellwagstraße        -  3/30\n",
      "  4. [5.2 km] Traisengasse         -  0/24\n",
      "  5. [5.6 km] Radingerstraße       - 10/33\n",
      "  6. [5.7 km] Jägerstraße U6       -  9/26\n",
      "  7. [6.0 km] Messeplatz           -  1/40\n",
      "  8. [6.1 km] Wallensteinplatz     -  4/27\n",
      "  9. [6.2 km] Krieau               -  8/24\n",
      " 10. [6.3 km] Heinestraße          - 10/38\n"
     ]
    }
   ],
   "source": [
    "closest_citybikes(\"Giefinggasse 6, Wien\")"
   ]
  },
  {
   "cell_type": "markdown",
   "metadata": {
    "pycharm": {
     "name": "#%% md\n"
    }
   },
   "source": [
    "thats nice, but what if we wanna use the list for something else than printing it?\n",
    "maybe we wanna do further logic with it, for examle filter for stations that have atleast a certain number of bikes for your group\n",
    "Or only show stations with a certain empty spots to return the bike.\n",
    "\n",
    "Furthermore, imagine we wanna check many different locations at the same time. then we do not\n",
    "need or want to request the data everytime.\n",
    "\n",
    "It is therefore a good idea to refactor the code into at least 2 different functions:\n",
    "1. a function *list_closest_to* that returns the list of stations\n",
    "2. a function *print_stations* that prints it\n",
    "\n",
    "like so:"
   ]
  },
  {
   "cell_type": "code",
   "execution_count": 27,
   "metadata": {
    "pycharm": {
     "name": "#%%\n"
    }
   },
   "outputs": [
    {
     "name": "stdout",
     "output_type": "stream",
     "text": [
      "10 nearest Stations to Arbeitergasse 5, Wien:\n",
      "_____________________\n",
      "  1. [0.1 km] Siebenbrunnenplatz   -  3/26\n",
      "  2. [0.4 km] Reinprechtsdorfer Br - 15/20\n",
      "  3. [0.5 km] Arbeitergasse        - 21/26\n",
      "  4. [0.7 km] Margaretengürtel U4  - 23/30\n",
      "  5. [0.7 km] Matzleinsdorfer Plat - 14/24\n",
      "  6. [0.8 km] Mittersteig          - 15/28\n",
      "  7. [0.8 km] Pilgramgasse U4      - 10/21\n",
      "  8. [0.9 km] Hartmanngasse        - 23/26\n",
      "  9. [1.1 km] Gumpendorfer Gürtel  -  2/27\n",
      " 10. [1.2 km] Falco Stiege         -  7/17\n"
     ]
    }
   ],
   "source": [
    "def list_closest_stations(address=\"Stephansplatz, Wien, Österreich\"):\n",
    "    cb_data = requests.get(url=\"http://dynamisch.citybikewien.at/citybike_xml.php?json\")\n",
    "    cb_json = cb_data.json()\n",
    "\n",
    "    location = from_address(address)\n",
    "    return list_nearest(location, list_of_stations=cb_json)\n",
    "\n",
    "def print_stations(address=\"Stephansplatz, Wien, Österreich\", num_results=10):\n",
    "    station_list = list_closest_stations(address)\n",
    "    print(f\"{num_results} nearest Stations to {address}:\")\n",
    "    print(\"_\"*len(address))\n",
    "    for i, station in enumerate(station_list[:num_results]):\n",
    "        print(f\"{i+1:3}. [{station['distance']:2.1f} km] {station['name'][:20]:20s} - {station['free_bikes']:2}/{station['boxes']}\")\n",
    "\n",
    "print_stations(\"Arbeitergasse 5, Wien\")"
   ]
  },
  {
   "cell_type": "markdown",
   "metadata": {},
   "source": [
    "## Energy Lighthouse Projects in Vienna\n",
    "\n",
    "Check out the Catalogue of Viennese Energy Lighthouse Projects: \"https://data.wien.gv.at/daten/geo?service=WFS&request=GetFeature&version=1.1.0&typeName=ogdwien:ENINNOVPRJV2OGD%20&srsName=EPSG:4326&outputFormat=json\"\n",
    "\n",
    "Use the knowledge and code of the previous exercise\n",
    " to print the closest CityBike Station to each project"
   ]
  },
  {
   "cell_type": "code",
   "execution_count": 28,
   "metadata": {
    "pycharm": {
     "name": "#%%\n"
    }
   },
   "outputs": [],
   "source": [
    "addr = \"https://data.wien.gv.at/daten/geo?service=WFS&request=GetFeature&version=1.1.0&typeName=ogdwien:ENINNOVPRJV2OGD%20&srsName=EPSG:4326&outputFormat=json\"\n",
    "response = requests.get(addr)\n",
    "data = response.json()"
   ]
  },
  {
   "cell_type": "code",
   "execution_count": 29,
   "metadata": {
    "pycharm": {
     "name": "#%%\n"
    }
   },
   "outputs": [
    {
     "name": "stdout",
     "output_type": "stream",
     "text": [
      "type(data)=<class 'dict'>\n",
      "data.keys()=dict_keys(['type', 'totalFeatures', 'features', 'crs'])\n"
     ]
    }
   ],
   "source": [
    "print(f\"{type(data)=}\\n{data.keys()=}\")"
   ]
  },
  {
   "cell_type": "code",
   "execution_count": 30,
   "metadata": {
    "pycharm": {
     "name": "#%%\n"
    }
   },
   "outputs": [
    {
     "name": "stdout",
     "output_type": "stream",
     "text": [
      "len(projects)=196\n"
     ]
    },
    {
     "data": {
      "text/plain": [
       "{'type': 'Feature',\n",
       " 'id': 'ENINNOVPRJV2OGD.fid-521dfc4_17d14e75bb4_49c5',\n",
       " 'geometry': {'type': 'Point',\n",
       "  'coordinates': [16.513485728582523, 48.21488683247148]},\n",
       " 'geometry_name': 'SHAPE',\n",
       " 'properties': {'OBJECTID': 52531,\n",
       "  'ID': 4,\n",
       "  'BEZEICHNUNG': 'Passivhaus-Demonstrationsprojekt eco.living',\n",
       "  'KATEGORIE': 'Energieeffiziente Gebäude',\n",
       "  'SUBKATEGORIE': 'Wohnbau (Neubau)',\n",
       "  'BESCHREIBUNG_KURZ': 'Anhand dieser Wohnhausanlage mit vier nahezu gleichen Bauteilen in Holzfertigteilbauweise werden unterschiedliche Passivhauskonzepte miteinander verglichen.',\n",
       "  'BESCHREIBUNG': '<p>Während über die grundsätzliche Bauweise (Wärmedämmung, Wärmebrückenfreiheit, Luftdichtheit etc.) von Passivhäusern weitgehend Klarheit besteht, existieren bezüglich der Haustechnik, insbesondere im großvolumigen Wohnbau, unterschiedliche Ansätze und Meinungen – etwa zur Beheizung über die Zuluft oder über ein unabhängiges Heizsystem, zu zentralen oder dezentralen Lüftungsanlagen, zur Luftvorerwärmung, den Einsatz erneuerbarer Energieträger und anderes mehr. Ein Passivhaus-Demonstrationsprojekt im 22. Wiener Gemeindebezirk mit vier nahezu gleichen Bauteilen bietet ideale Voraussetzungen, um unterschiedliche Haustechniksysteme wissenschaftlich miteinander zu vergleichen. Die 2006/2007 in Holzfertigteilbauweise errichtete Wohnhausanlage „eco.living“ besteht aus insgesamt sechs Baukörpern: Direkt an der Esslinger Hauptstraße liegt das sogenannte „Torhaus“ mit Gemeinschaftseinrichtungen und einem Hausbetreuungsbüro, dahinter schließen gestaffelt vier baugleiche Wohnkomplexe mit je zehn Wohneinheiten sowie ein weiteres kleineres Wohnhaus mit sechs Wohnungen an; alle verfügen über großzügige Freiraumbereiche. Die über eine Tiefgarage verbundenen Kellergeschoße wurden in Massivbauweise errichtet und von den oberen Stockwerken thermisch entkoppelt; ebenso sind die Kellerstiegen und Aufzüge aus der thermischen Hülle ausgenommen. Die hochwärmegedämmte Außenhülle der Gebäude wurde in Holzleichtbauweise ausgeführt, die eine Reihe von Vorteilen bietet (hoher Grad an Vorfertigung, geringe Wandstärken bei hohem Dämmstandard, günstige ökologische Kennwerte). Zur Weiterentwicklung der Passivhaustechnologie wurden die vier baugleichen Gebäude darüber hinaus mit unterschiedlichen Wärmeerzeugungs-, -abgabe- und Lüftungssystemen ausgestattet und im Rahmen der Forschungsreihe „Haus der Zukunft“ hinsichtlich ihrer thermischen Behaglichkeit untersucht. Ziel war es, aus den gewonnenen Erkenntnissen innovative, praxistaugliche Haustechnikkonzepte mit hohem Nutzungskomfort zu entwickeln.</',\n",
       "  'BAUJAHR': '2007',\n",
       "  'BESONDERHEIT': 'Wussten Sie, dass im Sinne ökologischer Verträglichkeit und eines günstigen Kleinklimas auch rund um die Gebäude Maßnahmen ergriffen wurden? So wurde dank wasserdurchlässiger Bodenbeläge, Regenmulden und Gründächer eine geringe Bodenversiegelung und hohe Speicherkapazität der Oberflächen erreicht.',\n",
       "  'SCHLAGWORTE': 'Photovoltaik (PV),Wärmepumpe,Passivhausbauweise,Regenwassermanagement,Forschung,Holzfertigteilbauweise,Demonstrationsprojekt,Gemeinschaftseinrichtungen',\n",
       "  'LINKS': 'http://www.hackermueller.at/portfolio_page/esslinger-hauptstrasse-17http://www.passivhausprojekte.de/#d_3394\\nhttps://www.oegnb.net/en/upload/file/tq_planzert_esslingerhaupstr17_sept08.pdf\\nhttp://bilder.nachhaltigwirtschaften.at/_files/20/787/Klima.Komfort.Haus_Projektdaten_Hackerm%C3%BCller.pdf',\n",
       "  'STATUS': 'Realisiert',\n",
       "  'PROJEKT_STADT_WIEN': 'Nein',\n",
       "  'STANDORT_STRASSE': 'Esslinger Hauptstraße',\n",
       "  'STANDORT_HAUSNUMMER': '17',\n",
       "  'STANDORT_STIEGE': None,\n",
       "  'STANDORT_STOCK': None,\n",
       "  'STANDORT_TUER': None,\n",
       "  'STANDORT_PLZ': '1220',\n",
       "  'STANDORT_ORT': 'Wien',\n",
       "  'STANDORT_OEFFNUNGSZEITEN': 'Besichtigung: von außen möglich',\n",
       "  'STANDORT_ANREISE': '26A, 88A, 88B - Lannesstraße',\n",
       "  'STANDORT_COORDINATES_X': 13477.21,\n",
       "  'STANDORT_COORDINATES_Y': 341847.44,\n",
       "  'EEFF_BESCHREIBUNG': 'Durch die Messungen und Untersuchungen der vier Gebäude soll ein optimierter haustechnischer Standard herausgearbeitet werden, der als Entscheidungshilfe dienen soll. Untersucht und gegenübergestellt ',\n",
       "  'EEFF_BGF': '7387',\n",
       "  'EEFF_WE': '46',\n",
       "  'EEFF_HAUPTNUTZ': 'Wohngebäude',\n",
       "  'EEFF_EKLASSE': 'A++',\n",
       "  'EEFF_HWB': '13',\n",
       "  'EEFF_ZERTIFIKAT': 'klimaaktiv-Zertifizierung \"Gold\" (950 von 1.000 Punkten)',\n",
       "  'VORZ_BESCHREIBUNG': None,\n",
       "  'VORZ_ENERGIETRAEGER': None,\n",
       "  'VORZ_NENNLEISTUNG_ELEKTRISCH': None,\n",
       "  'VORZ_NENNLEISTUNG_THERMISCH': None,\n",
       "  'VORZ_ERTRAG_ELEKTRISCH': None,\n",
       "  'VORZ_ERTRAG_THERMISCH': None,\n",
       "  'VORZ_VOLLLASTSTUNDEN_ELEKTRISC': None,\n",
       "  'VORZ_VOLLLASTSTUNDEN_THERMISCH': None,\n",
       "  'INNO_BESCHREIBUNG': None,\n",
       "  'INNO_ERNEUERBARANTEIL': None,\n",
       "  'INNO_ABWAERMEANTEIL': None,\n",
       "  'INNO_SPITZENLASTABDECKUNG': None,\n",
       "  'INNO_SPEICHERKAPAZITAET': None,\n",
       "  'IMAGE_FILENAME': 'CF1_2283.jpg',\n",
       "  'BEZEICHNUNG_ENGLISH': 'Passive house demonstration project eco.living',\n",
       "  'KATEGORIE_ENGLISH': 'energy efficient buildings',\n",
       "  'SUBKATEGORIE_ENGLISH': 'residential building (new building)',\n",
       "  'STATUS_ENGLISH': 'realized',\n",
       "  'BESCHREIBUNG_KURZ_ENGLISH': 'This residential complex consisting of four almost identical wooden pre-cast buildings provides very different passive house concepts.',\n",
       "  'BESCHREIBUNG_ENGLISH': '<p>While there is largely clarity concerning the general construction of passive houses (thermal insulation, air tightness etc.), the approaches and opinions on building technology vary, in particular for large volume residential buildings, for example on the heating of supply air or an independent heating system, on centralized or decentralized ventilation systems, pre-heating of air, deployment of renewable energies and many other issues. In Vienna’s 22nd district, the passive house demonstration project consisting of four almost identical buildings offers ideal conditions to undertake a scientific comparison of different building technology systems. Built in 2006/2007, this residential complex made of wooden pre-cast building components, in total consists of six building structures: Located directly on Esslinger Hauptstraße is the so-called Torhaus with community facilities and the caretaker office; four identically constructed housing complexes with ten apartments each directly connected behind it in a staggered manner as well as another smaller house with six apartments; all of them having generous recreation areas. The basement is of a solid construction and connected via the underground garage; it is thermally separated from the higher floors. The cellar staircases and elevators are also outside the thermal envelope. For the highly thermally insulated building envelope a lightweight wood construction was used, providing a range of benefits (high level of pre-fabrication, minimal wall thickness with high insulation level, positive ecological parameters). The passive house technology was enhanced by installing different ventilation, heat generation and supply systems in the four identical buildings. The thermal comfort of those houses was assessed in the framework of the research project House of the Future. The goal consisted in making use of the findings for developing innovative and applicable building technology concepts with high user convenience.</p>',\n",
       "  'BAUJAHR_ENGLISH': '2007',\n",
       "  'BESONDERHEIT_ENGLISH': 'Did you know that measures were taken also around the house to create ecological compatibility and a favourable microclimate? Water permeable floor coverings, rain gutters and green roofs helped to achieve a low degree of soil sealing and high storage capacity of the surfaces.',\n",
       "  'SCHLAGWORTE_ENGLISH': 'photovoltaics (PV),passive house design,pre-cast timber construction,research,heat pump,demonstration project,shared facilities,rainwater management',\n",
       "  'LINKS_ENGLISH': 'http://www.hackermueller.at/portfolio_page/esslinger-hauptstrasse-17http://www.passivhausprojekte.de/#d_3394\\nhttps://www.oegnb.net/en/upload/file/tq_planzert_esslingerhaupstr17_sept08.pdf\\nhttp://bilder.nachhaltigwirtschaften.at/_files/20/787/Klima.Komfort.Haus_Projektdaten_Hackerm%C3%BCller.pdf',\n",
       "  'PROJEKT_STADT_WIEN_ENGLISH': 'No',\n",
       "  'STANDORT_STRASSE_ENGLISH': 'Esslinger Hauptstraße',\n",
       "  'STANDORT_HAUSNUMMER_ENGLISH': '17',\n",
       "  'STANDORT_STIEGE_ENGLISH': None,\n",
       "  'STANDORT_STOCK_ENGLISH': None,\n",
       "  'STANDORT_TUER_ENGLISH': None,\n",
       "  'STANDORT_PLZ_ENGLISH': '1220',\n",
       "  'STANDORT_ORT_ENGLISH': 'Wien',\n",
       "  'STANDORT_OEFFNUNGSZEITEN_ENGLI': 'Besichtigung: von außen möglich',\n",
       "  'STANDORT_ANREISE_ENGLISH': '26A, 88A, 88B - Lannesstraße',\n",
       "  'STANDORT_COORDINATES_X_ENGLISH': 13477.21,\n",
       "  'STANDORT_COORDINATES_Y_ENGLISH': 341847.44,\n",
       "  'EEFF_BESCHREIBUNG_ENGLISH': 'Durch die Messungen und Untersuchungen der vier Gebäude soll ein optimierter haustechnischer Standard herausgearbeitet werden, der als Entscheidungshilfe dienen soll. Untersucht und gegenübergestellt werden im Detail:\\n- dezentrale/zentrale kontrollierte Wohnraumlüftungsgeräte \\n- Einbringung und Vorerwärmung der Frischluft über Erdwärmetauscher/ Sole/ Fassade/ Dach im Mantelrohr \\n- Restwärmeeinbringung über die Luft – Back-up elektrisch/ Bauteilheizung mit Wärmepumpe\\n- Erneuerbare - / Alternative',\n",
       "  'EEFF_BGF_ENGLISH': '7387',\n",
       "  'EEFF_WE_ENGLISH': '46',\n",
       "  'EEFF_HAUPTNUTZ_ENGLISH': 'residential building',\n",
       "  'EEFF_EKLASSE_ENGLISH': 'A++',\n",
       "  'EEFF_HWB_ENGLISH': '13',\n",
       "  'EEFF_ZERTIFIKAT_ENGLISH': 'klimaaktiv-Zertifizierung \"Gold\" (950 von 1.000 Punkten)',\n",
       "  'VORZ_BESCHREIBUNG_ENGLISH': None,\n",
       "  'VORZ_ENERGIETRAEGER_ENGLISH': None,\n",
       "  'VORZ_NENNLEISTUNG_ELEKTRISCH_E': None,\n",
       "  'VORZ_NENNLEISTUNG_THERMISCH_EN': None,\n",
       "  'VORZ_ERTRAG_ELEKTRISCH_ENGLISH': None,\n",
       "  'VORZ_ERTRAG_THERMISCH_ENGLISH': None,\n",
       "  'VORZ_VOLLLASTSTUNDEN_ELEKTR_EN': None,\n",
       "  'VORZ_VOLLLASTSTUNDEN_THERM_EN': None,\n",
       "  'INNO_BESCHREIBUNG_ENGLISH': None,\n",
       "  'INNO_ERNEUERBARANTEIL_ENGLISH': None,\n",
       "  'INNO_ABWAERMEANTEIL_ENGLISH': None,\n",
       "  'INNO_SPITZENLASTABDECKUNG_ENGL': None,\n",
       "  'INNO_SPEICHERKAPAZITAET_ENGLIS': None,\n",
       "  'SE_ANNO_CAD_DATA': None}}"
      ]
     },
     "execution_count": 30,
     "metadata": {},
     "output_type": "execute_result"
    }
   ],
   "source": [
    "projects = data[\"features\"]\n",
    "print(f\"{len(projects)=}\")\n",
    "projects[0]"
   ]
  },
  {
   "cell_type": "markdown",
   "metadata": {
    "pycharm": {
     "name": "#%% md\n"
    }
   },
   "source": [
    "Let's do some statistics!"
   ]
  },
  {
   "cell_type": "code",
   "execution_count": 31,
   "metadata": {
    "pycharm": {
     "name": "#%%\n"
    }
   },
   "outputs": [
    {
     "name": "stdout",
     "output_type": "stream",
     "text": [
      "['A++', 'A++', 'A+', None, None, None, None, None, None, None, None, None, 'A', 'A+', 'A++', None, None, None, None, None, None, None, 'A++', None, 'A+', 'A++', None, None, None, None, None, None, None, None, 'A++', 'B', None, None, 'A++', 'A++', None, 'A++', 'A++', None, 'A', None, 'A++', 'A', None, 'A++', None, None, None, None, None, None, None, None, 'A++', None, 'A++', None, None, None, None, None, 'A++', None, None, None, None, None, None, 'A++', None, None, None, None, 'A', None, None, None, 'A+', None, None, None, None, None, None, None, 'A', None, None, None, None, None, None, None, 'A++', 'A++', None, None, None, 'A+', None, None, None, None, None, None, None, 'A+', None, 'A++', None, None, None, None, None, 'A++', 'A++', None, None, None, None, None, None, None, None, None, None, None, 'A++', None, None, 'A++', None, 'A', None, 'A++', 'A++', None, None, None, None, None, None, None, None, None, None, None, None, None, None, None, None, None, None, None, None, None, None, None, None, None, None, None, None, None, None, None, None, None, 'B', None, None, None, None, None, None, None, None, 'A+', None, None, 'A+', None, None, None, None, None, 'A++', 'A++', None, None]\n"
     ]
    }
   ],
   "source": [
    "EKLASSE = [p[\"properties\"]['EEFF_EKLASSE'] for p in projects]\n",
    "print(EKLASSE)"
   ]
  },
  {
   "cell_type": "code",
   "execution_count": 32,
   "metadata": {
    "pycharm": {
     "name": "#%%\n"
    }
   },
   "outputs": [
    {
     "data": {
      "text/plain": [
       "Counter({'A++': 27, 'A+': 8, 'A': 6, 'B': 2})"
      ]
     },
     "execution_count": 32,
     "metadata": {},
     "output_type": "execute_result"
    }
   ],
   "source": [
    "from collections import Counter\n",
    "EKLASSE = [e for e in EKLASSE if e is not None]\n",
    "eneffklasse = Counter(EKLASSE)\n",
    "eneffklasse"
   ]
  },
  {
   "cell_type": "code",
   "execution_count": 33,
   "metadata": {
    "pycharm": {
     "name": "#%%\n"
    }
   },
   "outputs": [
    {
     "data": {
      "text/plain": [
       "196"
      ]
     },
     "execution_count": 33,
     "metadata": {},
     "output_type": "execute_result"
    }
   ],
   "source": [
    "import pandas as pd\n",
    "df = pd.DataFrame([p[\"properties\"] for p in projects])\n",
    "df.columns\n",
    "len(df)"
   ]
  },
  {
   "cell_type": "code",
   "execution_count": 34,
   "metadata": {
    "pycharm": {
     "name": "#%%\n"
    }
   },
   "outputs": [
    {
     "data": {
      "text/plain": [
       "<AxesSubplot:ylabel='None'>"
      ]
     },
     "execution_count": 34,
     "metadata": {},
     "output_type": "execute_result"
    },
    {
     "data": {
      "image/png": "[encoded data removed]",
      "text/plain": [
       "<Figure size 432x288 with 1 Axes>"
      ]
     },
     "metadata": {},
     "output_type": "display_data"
    }
   ],
   "source": [
    "pd.Series(eneffklasse).plot(kind=\"pie\")"
   ]
  },
  {
   "cell_type": "markdown",
   "metadata": {
    "pycharm": {
     "name": "#%% md\n"
    }
   },
   "source": [
    "Thats nice, let's define a function that takes a column name as a\n",
    "parameter, counts the occurances and plots the resul"
   ]
  },
  {
   "cell_type": "code",
   "execution_count": 35,
   "metadata": {
    "pycharm": {
     "name": "#%%\n"
    }
   },
   "outputs": [],
   "source": [
    "def count(col_name, project_dict=projects):\n",
    "    if col_name not in project_dict[0][\"properties\"]:\n",
    "        raise KeyError(f\"{col_name=} not in projects variables\")\n",
    "    count = [p[\"properties\"][col_name] for p in project_dict]\n",
    "    count = [c for c in count if c is not None]\n",
    "    return Counter(count)"
   ]
  },
  {
   "cell_type": "code",
   "execution_count": 36,
   "metadata": {
    "pycharm": {
     "name": "#%%\n"
    }
   },
   "outputs": [
    {
     "data": {
      "text/plain": [
       "{'OBJECTID': 52531,\n",
       " 'ID': 4,\n",
       " 'BEZEICHNUNG': 'Passivhaus-Demonstrationsprojekt eco.living',\n",
       " 'KATEGORIE': 'Energieeffiziente Gebäude',\n",
       " 'SUBKATEGORIE': 'Wohnbau (Neubau)',\n",
       " 'BESCHREIBUNG_KURZ': 'Anhand dieser Wohnhausanlage mit vier nahezu gleichen Bauteilen in Holzfertigteilbauweise werden unterschiedliche Passivhauskonzepte miteinander verglichen.',\n",
       " 'BESCHREIBUNG': '<p>Während über die grundsätzliche Bauweise (Wärmedämmung, Wärmebrückenfreiheit, Luftdichtheit etc.) von Passivhäusern weitgehend Klarheit besteht, existieren bezüglich der Haustechnik, insbesondere im großvolumigen Wohnbau, unterschiedliche Ansätze und Meinungen – etwa zur Beheizung über die Zuluft oder über ein unabhängiges Heizsystem, zu zentralen oder dezentralen Lüftungsanlagen, zur Luftvorerwärmung, den Einsatz erneuerbarer Energieträger und anderes mehr. Ein Passivhaus-Demonstrationsprojekt im 22. Wiener Gemeindebezirk mit vier nahezu gleichen Bauteilen bietet ideale Voraussetzungen, um unterschiedliche Haustechniksysteme wissenschaftlich miteinander zu vergleichen. Die 2006/2007 in Holzfertigteilbauweise errichtete Wohnhausanlage „eco.living“ besteht aus insgesamt sechs Baukörpern: Direkt an der Esslinger Hauptstraße liegt das sogenannte „Torhaus“ mit Gemeinschaftseinrichtungen und einem Hausbetreuungsbüro, dahinter schließen gestaffelt vier baugleiche Wohnkomplexe mit je zehn Wohneinheiten sowie ein weiteres kleineres Wohnhaus mit sechs Wohnungen an; alle verfügen über großzügige Freiraumbereiche. Die über eine Tiefgarage verbundenen Kellergeschoße wurden in Massivbauweise errichtet und von den oberen Stockwerken thermisch entkoppelt; ebenso sind die Kellerstiegen und Aufzüge aus der thermischen Hülle ausgenommen. Die hochwärmegedämmte Außenhülle der Gebäude wurde in Holzleichtbauweise ausgeführt, die eine Reihe von Vorteilen bietet (hoher Grad an Vorfertigung, geringe Wandstärken bei hohem Dämmstandard, günstige ökologische Kennwerte). Zur Weiterentwicklung der Passivhaustechnologie wurden die vier baugleichen Gebäude darüber hinaus mit unterschiedlichen Wärmeerzeugungs-, -abgabe- und Lüftungssystemen ausgestattet und im Rahmen der Forschungsreihe „Haus der Zukunft“ hinsichtlich ihrer thermischen Behaglichkeit untersucht. Ziel war es, aus den gewonnenen Erkenntnissen innovative, praxistaugliche Haustechnikkonzepte mit hohem Nutzungskomfort zu entwickeln.</',\n",
       " 'BAUJAHR': '2007',\n",
       " 'BESONDERHEIT': 'Wussten Sie, dass im Sinne ökologischer Verträglichkeit und eines günstigen Kleinklimas auch rund um die Gebäude Maßnahmen ergriffen wurden? So wurde dank wasserdurchlässiger Bodenbeläge, Regenmulden und Gründächer eine geringe Bodenversiegelung und hohe Speicherkapazität der Oberflächen erreicht.',\n",
       " 'SCHLAGWORTE': 'Photovoltaik (PV),Wärmepumpe,Passivhausbauweise,Regenwassermanagement,Forschung,Holzfertigteilbauweise,Demonstrationsprojekt,Gemeinschaftseinrichtungen',\n",
       " 'LINKS': 'http://www.hackermueller.at/portfolio_page/esslinger-hauptstrasse-17http://www.passivhausprojekte.de/#d_3394\\nhttps://www.oegnb.net/en/upload/file/tq_planzert_esslingerhaupstr17_sept08.pdf\\nhttp://bilder.nachhaltigwirtschaften.at/_files/20/787/Klima.Komfort.Haus_Projektdaten_Hackerm%C3%BCller.pdf',\n",
       " 'STATUS': 'Realisiert',\n",
       " 'PROJEKT_STADT_WIEN': 'Nein',\n",
       " 'STANDORT_STRASSE': 'Esslinger Hauptstraße',\n",
       " 'STANDORT_HAUSNUMMER': '17',\n",
       " 'STANDORT_STIEGE': None,\n",
       " 'STANDORT_STOCK': None,\n",
       " 'STANDORT_TUER': None,\n",
       " 'STANDORT_PLZ': '1220',\n",
       " 'STANDORT_ORT': 'Wien',\n",
       " 'STANDORT_OEFFNUNGSZEITEN': 'Besichtigung: von außen möglich',\n",
       " 'STANDORT_ANREISE': '26A, 88A, 88B - Lannesstraße',\n",
       " 'STANDORT_COORDINATES_X': 13477.21,\n",
       " 'STANDORT_COORDINATES_Y': 341847.44,\n",
       " 'EEFF_BESCHREIBUNG': 'Durch die Messungen und Untersuchungen der vier Gebäude soll ein optimierter haustechnischer Standard herausgearbeitet werden, der als Entscheidungshilfe dienen soll. Untersucht und gegenübergestellt ',\n",
       " 'EEFF_BGF': '7387',\n",
       " 'EEFF_WE': '46',\n",
       " 'EEFF_HAUPTNUTZ': 'Wohngebäude',\n",
       " 'EEFF_EKLASSE': 'A++',\n",
       " 'EEFF_HWB': '13',\n",
       " 'EEFF_ZERTIFIKAT': 'klimaaktiv-Zertifizierung \"Gold\" (950 von 1.000 Punkten)',\n",
       " 'VORZ_BESCHREIBUNG': None,\n",
       " 'VORZ_ENERGIETRAEGER': None,\n",
       " 'VORZ_NENNLEISTUNG_ELEKTRISCH': None,\n",
       " 'VORZ_NENNLEISTUNG_THERMISCH': None,\n",
       " 'VORZ_ERTRAG_ELEKTRISCH': None,\n",
       " 'VORZ_ERTRAG_THERMISCH': None,\n",
       " 'VORZ_VOLLLASTSTUNDEN_ELEKTRISC': None,\n",
       " 'VORZ_VOLLLASTSTUNDEN_THERMISCH': None,\n",
       " 'INNO_BESCHREIBUNG': None,\n",
       " 'INNO_ERNEUERBARANTEIL': None,\n",
       " 'INNO_ABWAERMEANTEIL': None,\n",
       " 'INNO_SPITZENLASTABDECKUNG': None,\n",
       " 'INNO_SPEICHERKAPAZITAET': None,\n",
       " 'IMAGE_FILENAME': 'CF1_2283.jpg',\n",
       " 'BEZEICHNUNG_ENGLISH': 'Passive house demonstration project eco.living',\n",
       " 'KATEGORIE_ENGLISH': 'energy efficient buildings',\n",
       " 'SUBKATEGORIE_ENGLISH': 'residential building (new building)',\n",
       " 'STATUS_ENGLISH': 'realized',\n",
       " 'BESCHREIBUNG_KURZ_ENGLISH': 'This residential complex consisting of four almost identical wooden pre-cast buildings provides very different passive house concepts.',\n",
       " 'BESCHREIBUNG_ENGLISH': '<p>While there is largely clarity concerning the general construction of passive houses (thermal insulation, air tightness etc.), the approaches and opinions on building technology vary, in particular for large volume residential buildings, for example on the heating of supply air or an independent heating system, on centralized or decentralized ventilation systems, pre-heating of air, deployment of renewable energies and many other issues. In Vienna’s 22nd district, the passive house demonstration project consisting of four almost identical buildings offers ideal conditions to undertake a scientific comparison of different building technology systems. Built in 2006/2007, this residential complex made of wooden pre-cast building components, in total consists of six building structures: Located directly on Esslinger Hauptstraße is the so-called Torhaus with community facilities and the caretaker office; four identically constructed housing complexes with ten apartments each directly connected behind it in a staggered manner as well as another smaller house with six apartments; all of them having generous recreation areas. The basement is of a solid construction and connected via the underground garage; it is thermally separated from the higher floors. The cellar staircases and elevators are also outside the thermal envelope. For the highly thermally insulated building envelope a lightweight wood construction was used, providing a range of benefits (high level of pre-fabrication, minimal wall thickness with high insulation level, positive ecological parameters). The passive house technology was enhanced by installing different ventilation, heat generation and supply systems in the four identical buildings. The thermal comfort of those houses was assessed in the framework of the research project House of the Future. The goal consisted in making use of the findings for developing innovative and applicable building technology concepts with high user convenience.</p>',\n",
       " 'BAUJAHR_ENGLISH': '2007',\n",
       " 'BESONDERHEIT_ENGLISH': 'Did you know that measures were taken also around the house to create ecological compatibility and a favourable microclimate? Water permeable floor coverings, rain gutters and green roofs helped to achieve a low degree of soil sealing and high storage capacity of the surfaces.',\n",
       " 'SCHLAGWORTE_ENGLISH': 'photovoltaics (PV),passive house design,pre-cast timber construction,research,heat pump,demonstration project,shared facilities,rainwater management',\n",
       " 'LINKS_ENGLISH': 'http://www.hackermueller.at/portfolio_page/esslinger-hauptstrasse-17http://www.passivhausprojekte.de/#d_3394\\nhttps://www.oegnb.net/en/upload/file/tq_planzert_esslingerhaupstr17_sept08.pdf\\nhttp://bilder.nachhaltigwirtschaften.at/_files/20/787/Klima.Komfort.Haus_Projektdaten_Hackerm%C3%BCller.pdf',\n",
       " 'PROJEKT_STADT_WIEN_ENGLISH': 'No',\n",
       " 'STANDORT_STRASSE_ENGLISH': 'Esslinger Hauptstraße',\n",
       " 'STANDORT_HAUSNUMMER_ENGLISH': '17',\n",
       " 'STANDORT_STIEGE_ENGLISH': None,\n",
       " 'STANDORT_STOCK_ENGLISH': None,\n",
       " 'STANDORT_TUER_ENGLISH': None,\n",
       " 'STANDORT_PLZ_ENGLISH': '1220',\n",
       " 'STANDORT_ORT_ENGLISH': 'Wien',\n",
       " 'STANDORT_OEFFNUNGSZEITEN_ENGLI': 'Besichtigung: von außen möglich',\n",
       " 'STANDORT_ANREISE_ENGLISH': '26A, 88A, 88B - Lannesstraße',\n",
       " 'STANDORT_COORDINATES_X_ENGLISH': 13477.21,\n",
       " 'STANDORT_COORDINATES_Y_ENGLISH': 341847.44,\n",
       " 'EEFF_BESCHREIBUNG_ENGLISH': 'Durch die Messungen und Untersuchungen der vier Gebäude soll ein optimierter haustechnischer Standard herausgearbeitet werden, der als Entscheidungshilfe dienen soll. Untersucht und gegenübergestellt werden im Detail:\\n- dezentrale/zentrale kontrollierte Wohnraumlüftungsgeräte \\n- Einbringung und Vorerwärmung der Frischluft über Erdwärmetauscher/ Sole/ Fassade/ Dach im Mantelrohr \\n- Restwärmeeinbringung über die Luft – Back-up elektrisch/ Bauteilheizung mit Wärmepumpe\\n- Erneuerbare - / Alternative',\n",
       " 'EEFF_BGF_ENGLISH': '7387',\n",
       " 'EEFF_WE_ENGLISH': '46',\n",
       " 'EEFF_HAUPTNUTZ_ENGLISH': 'residential building',\n",
       " 'EEFF_EKLASSE_ENGLISH': 'A++',\n",
       " 'EEFF_HWB_ENGLISH': '13',\n",
       " 'EEFF_ZERTIFIKAT_ENGLISH': 'klimaaktiv-Zertifizierung \"Gold\" (950 von 1.000 Punkten)',\n",
       " 'VORZ_BESCHREIBUNG_ENGLISH': None,\n",
       " 'VORZ_ENERGIETRAEGER_ENGLISH': None,\n",
       " 'VORZ_NENNLEISTUNG_ELEKTRISCH_E': None,\n",
       " 'VORZ_NENNLEISTUNG_THERMISCH_EN': None,\n",
       " 'VORZ_ERTRAG_ELEKTRISCH_ENGLISH': None,\n",
       " 'VORZ_ERTRAG_THERMISCH_ENGLISH': None,\n",
       " 'VORZ_VOLLLASTSTUNDEN_ELEKTR_EN': None,\n",
       " 'VORZ_VOLLLASTSTUNDEN_THERM_EN': None,\n",
       " 'INNO_BESCHREIBUNG_ENGLISH': None,\n",
       " 'INNO_ERNEUERBARANTEIL_ENGLISH': None,\n",
       " 'INNO_ABWAERMEANTEIL_ENGLISH': None,\n",
       " 'INNO_SPITZENLASTABDECKUNG_ENGL': None,\n",
       " 'INNO_SPEICHERKAPAZITAET_ENGLIS': None,\n",
       " 'SE_ANNO_CAD_DATA': None}"
      ]
     },
     "execution_count": 36,
     "metadata": {},
     "output_type": "execute_result"
    }
   ],
   "source": [
    "projects[0][\"properties\"]"
   ]
  },
  {
   "cell_type": "code",
   "execution_count": 37,
   "metadata": {
    "pycharm": {
     "name": "#%%\n"
    }
   },
   "outputs": [
    {
     "data": {
      "text/plain": [
       "<AxesSubplot:>"
      ]
     },
     "execution_count": 37,
     "metadata": {},
     "output_type": "execute_result"
    },
    {
     "data": {
      "image/png": "[encoded data removed]",
      "text/plain": [
       "<Figure size 432x288 with 1 Axes>"
      ]
     },
     "metadata": {
      "needs_background": "light"
     },
     "output_type": "display_data"
    }
   ],
   "source": [
    "pd.Series(count(\"BAUJAHR\")).sort_index().plot(kind=\"bar\")"
   ]
  },
  {
   "cell_type": "code",
   "execution_count": null,
   "metadata": {
    "pycharm": {
     "name": "#%%\n"
    }
   },
   "outputs": [],
   "source": [
    "def plot_cat(col_name, kind=\"bar\"):\n",
    "    pd.Series(count(col_name)).sort_index().plot(kind=kind)\n",
    "\n",
    "plot_cat(\"EEFF_ZERTIFIKAT\")"
   ]
  },
  {
   "cell_type": "markdown",
   "metadata": {
    "pycharm": {
     "name": "#%% md\n"
    }
   },
   "source": [
    "uh... there is data on certificates there, but it is unsorted"
   ]
  },
  {
   "cell_type": "code",
   "execution_count": null,
   "metadata": {
    "pycharm": {
     "name": "#%%\n"
    }
   },
   "outputs": [],
   "source": [
    "HWB = df[df.EEFF_HWB.notnull()]\n",
    "HWB.EEFF_HWB = [x.replace(\",\",\".\") for x in HWB.EEFF_HWB]\n",
    "HWB.EEFF_HWB = HWB.EEFF_HWB.astype(float)\n",
    "HWB.EEFF_HWB.sort_values()"
   ]
  },
  {
   "cell_type": "code",
   "execution_count": null,
   "metadata": {
    "pycharm": {
     "name": "#%%\n"
    }
   },
   "outputs": [],
   "source": [
    "for col_name, col_val in zip(HWB.columns,HWB.loc[60]):\n",
    "    if pd.notnull(col_val):\n",
    "        print(f\"{col_name[:20]:20s}: {col_val}\")"
   ]
  },
  {
   "cell_type": "markdown",
   "metadata": {
    "pycharm": {
     "name": "#%% md\n"
    }
   },
   "source": [
    "this is getting a little untidy. let's try to restructure the data in a useful way.\n",
    "let's flatten the dictionary - adding all properties directly to the first level."
   ]
  },
  {
   "cell_type": "code",
   "execution_count": null,
   "metadata": {
    "pycharm": {
     "name": "#%%\n"
    }
   },
   "outputs": [],
   "source": [
    "for p in projects:\n",
    "    props = p.pop(\"properties\")\n",
    "    p.update(**props)\n",
    "\n",
    "\n",
    "projects"
   ]
  },
  {
   "cell_type": "code",
   "execution_count": null,
   "metadata": {
    "pycharm": {
     "name": "#%%\n"
    }
   },
   "outputs": [],
   "source": [
    "def column_counters(project_list):\n",
    "    counters = {}\n",
    "    for key in project_list[0]:\n",
    "        l = [project[key] for project in project_list]\n",
    "        c = Counter(l)\n",
    "        counters[key] = c\n",
    "    return counters\n",
    "\n",
    "project_counters = column_counters(projects)"
   ]
  },
  {
   "cell_type": "code",
   "execution_count": null,
   "metadata": {
    "pycharm": {
     "name": "#%%\n"
    }
   },
   "outputs": [],
   "source": [
    "def count2(col_name, project_dict=projects):\n",
    "    if col_name not in project_dict[0][\"properties\"]:\n",
    "        raise KeyError(f\"{col_name=} not in projects variables\")\n",
    "    count = [p[\"properties\"][col_name] for p in project_dict]\n",
    "    count = [c for c in count if c is not None]\n",
    "    return Counter(count)"
   ]
  },
  {
   "cell_type": "markdown",
   "metadata": {
    "pycharm": {
     "name": "#%% md\n"
    }
   },
   "source": [
    "* Get the water quality of Austrian lakes from here https://www.ages.at/typo3temp/badegewaesser_db.json and print all the latest available data for Viennese water bodies in a comprehensive form\n",
    "\n",
    "1. Browse https://www.data.gv.at/?s=json for more interesting datasets"
   ]
  }
 ],
 "metadata": {
  "kernelspec": {
   "display_name": "Python 3",
   "language": "python",
   "name": "python3"
  },
  "language_info": {
   "codemirror_mode": {
    "name": "ipython",
    "version": 3
   },
   "file_extension": ".py",
   "mimetype": "text/x-python",
   "name": "python",
   "nbconvert_exporter": "python",
   "pygments_lexer": "ipython3",
   "version": "3.8.8"
  }
 },
 "nbformat": 4,
 "nbformat_minor": 1
}
