{
 "cells": [
  {
   "attachments": {
    "grafik-2.png": {
     "image/png": "[encoded data removed]"
    }
   },
   "cell_type": "markdown",
   "id": "tested-gates",
   "metadata": {},
   "source": [
    "# Exercise 3 - Building Model\n",
    "Write a class ``Building`` in a file ``Building.py`` in the same directory that contains the data folder and this exercise. \n",
    "\n",
    "![grafik-2.png](attachment:grafik-2.png)\n",
    "\n",
    "The class reads a building.xlsx, populates the relevant attributes from two sheets \"params\" and \"thermal_hull\", and calculates the LT! To do this, it will reuse the functions you wrote in Exercise 2 and use it as its class methods.\n",
    "\n",
    "> More on Classes and Methods: https://towardsdatascience.com/get-started-with-object-oriented-programming-in-python-classes-and-instances-2c1849e0b411\n",
    "\n",
    "The class' ``__init__`` method shoud take the following Inputs\n",
    "* ``path`` the path of the excel\n",
    "\n",
    "\n",
    "### Attributes\n",
    "The class needs to have the following attributes that we can later use in the simulation model, so take care when naming:\n",
    "* ``self.bgf`` Bruttogeschoßfläche aus dem Blatt params\n",
    "* ``self.heat_capacity`` Spez. Wirksame Speicherkapazität des GEbäudes in Wh/m²K  im Blatt params\n",
    "* ``self.net_storey_height`` Netto Raumhöhe\n",
    "* ``self.LT`` Leitwert\n",
    "\n",
    "You can and should use additional variables and attributes to make the programming more understandable. \n",
    "\n",
    "### Methods\n",
    "Build upon exercise 2 and repurpose the functions you developed to read the excel, calculate the relevant additional parameters and call all methods in the right order in the ``__init__()`` function to build the Building model.  As a suggestion, the building Class could have the following methods to calculate the Attributes:\n",
    "* ``load_params(self, path): `` loads the sheet \"params\" of a excel at path and returns it as a dataframe\n",
    "* ``load_hull(self, path):`` loads the sheet \"thermal_ hull\" of a excel at path and returns it as a dataframe\n",
    "* ``insert_windows(self, hull_df, u_f, ff_anteil):`` takes a hull dataframe from load_hull() and replaces an opak wall with a wall and a window entry, taking the window share and u-value as inputs. **Add the u_f, and ff_anteil variables also to the ``__init__`` parameters and pass it there to the insert_windows() call.** \n",
    "* ``L_T(self, hull_df):`` calculates the LT from a Hull Dataframe\n",
    "\n",
    "## Test\n",
    "Test the Building class by creating an instance of the class with all available building exels.\n",
    "see that all required attribues work as expected and compare the LT of the buildings.\n",
    "Try different \"Fensterflächenanteile\"\n"
   ]
  },
  {
   "cell_type": "code",
   "execution_count": 1,
   "id": "refined-asian",
   "metadata": {},
   "outputs": [
    {
     "name": "stdout",
     "output_type": "stream",
     "text": [
      "1440.0\n",
      "200.0\n",
      "2.8\n",
      "0.5836395696898397\n"
     ]
    }
   ],
   "source": [
    "from Building import Building\n",
    "test = Building()\n",
    "print(test.bgf)\n",
    "print(test.heat_capacity)\n",
    "print(test.net_storey_height)\n",
    "print(test.LT)"
   ]
  },
  {
   "cell_type": "code",
   "execution_count": 2,
   "id": "reserved-theme",
   "metadata": {},
   "outputs": [
    {
     "data": {
      "text/html": [
       "<div>\n",
       "<style scoped>\n",
       "    .dataframe tbody tr th:only-of-type {\n",
       "        vertical-align: middle;\n",
       "    }\n",
       "\n",
       "    .dataframe tbody tr th {\n",
       "        vertical-align: top;\n",
       "    }\n",
       "\n",
       "    .dataframe thead th {\n",
       "        text-align: right;\n",
       "    }\n",
       "</style>\n",
       "<table border=\"1\" class=\"dataframe\">\n",
       "  <thead>\n",
       "    <tr style=\"text-align: right;\">\n",
       "      <th></th>\n",
       "      <th>Variable</th>\n",
       "      <th>Value</th>\n",
       "      <th>Unit</th>\n",
       "    </tr>\n",
       "    <tr>\n",
       "      <th>Variable</th>\n",
       "      <th></th>\n",
       "      <th></th>\n",
       "      <th></th>\n",
       "    </tr>\n",
       "  </thead>\n",
       "  <tbody>\n",
       "    <tr>\n",
       "      <th>gross_floor_area</th>\n",
       "      <td>gross_floor_area</td>\n",
       "      <td>1440.0</td>\n",
       "      <td>m² BGF</td>\n",
       "    </tr>\n",
       "    <tr>\n",
       "      <th>plot_size</th>\n",
       "      <td>plot_size</td>\n",
       "      <td>1000.0</td>\n",
       "      <td>m²</td>\n",
       "    </tr>\n",
       "    <tr>\n",
       "      <th>effective_heat_capacity</th>\n",
       "      <td>effective_heat_capacity</td>\n",
       "      <td>200.0</td>\n",
       "      <td>Wh/m²/K</td>\n",
       "    </tr>\n",
       "    <tr>\n",
       "      <th>net_storey_height</th>\n",
       "      <td>net_storey_height</td>\n",
       "      <td>2.8</td>\n",
       "      <td>m Netto</td>\n",
       "    </tr>\n",
       "    <tr>\n",
       "      <th>differential_cost</th>\n",
       "      <td>differential_cost</td>\n",
       "      <td>0.0</td>\n",
       "      <td>€/m²BGF</td>\n",
       "    </tr>\n",
       "  </tbody>\n",
       "</table>\n",
       "</div>"
      ],
      "text/plain": [
       "                                        Variable   Value     Unit\n",
       "Variable                                                         \n",
       "gross_floor_area                gross_floor_area  1440.0   m² BGF\n",
       "plot_size                              plot_size  1000.0       m²\n",
       "effective_heat_capacity  effective_heat_capacity   200.0  Wh/m²/K\n",
       "net_storey_height              net_storey_height     2.8  m Netto\n",
       "differential_cost              differential_cost     0.0  €/m²BGF"
      ]
     },
     "execution_count": 2,
     "metadata": {},
     "output_type": "execute_result"
    }
   ],
   "source": [
    "test.params_df"
   ]
  },
  {
   "cell_type": "code",
   "execution_count": 3,
   "id": "metallic-collaboration",
   "metadata": {},
   "outputs": [
    {
     "data": {
      "text/html": [
       "<div>\n",
       "<style scoped>\n",
       "    .dataframe tbody tr th:only-of-type {\n",
       "        vertical-align: middle;\n",
       "    }\n",
       "\n",
       "    .dataframe tbody tr th {\n",
       "        vertical-align: top;\n",
       "    }\n",
       "\n",
       "    .dataframe thead th {\n",
       "        text-align: right;\n",
       "    }\n",
       "</style>\n",
       "<table border=\"1\" class=\"dataframe\">\n",
       "  <thead>\n",
       "    <tr style=\"text-align: right;\">\n",
       "      <th></th>\n",
       "      <th>Bauteil</th>\n",
       "      <th>Fläche</th>\n",
       "      <th>U-Wert</th>\n",
       "      <th>Temperatur-Korrekturfaktor</th>\n",
       "      <th>L_B</th>\n",
       "    </tr>\n",
       "  </thead>\n",
       "  <tbody>\n",
       "    <tr>\n",
       "      <th>1</th>\n",
       "      <td>Dach</td>\n",
       "      <td>360.00</td>\n",
       "      <td>0.15</td>\n",
       "      <td>1</td>\n",
       "      <td>54.0000</td>\n",
       "    </tr>\n",
       "    <tr>\n",
       "      <th>2</th>\n",
       "      <td>Fußboden</td>\n",
       "      <td>360.00</td>\n",
       "      <td>0.40</td>\n",
       "      <td>1</td>\n",
       "      <td>144.0000</td>\n",
       "    </tr>\n",
       "    <tr>\n",
       "      <th>3</th>\n",
       "      <td>AW (opak)</td>\n",
       "      <td>645.12</td>\n",
       "      <td>0.30</td>\n",
       "      <td>1</td>\n",
       "      <td>193.5360</td>\n",
       "    </tr>\n",
       "    <tr>\n",
       "      <th>4</th>\n",
       "      <td>Fenster</td>\n",
       "      <td>430.08</td>\n",
       "      <td>0.93</td>\n",
       "      <td>1</td>\n",
       "      <td>399.9744</td>\n",
       "    </tr>\n",
       "  </tbody>\n",
       "</table>\n",
       "</div>"
      ],
      "text/plain": [
       "     Bauteil  Fläche  U-Wert  Temperatur-Korrekturfaktor       L_B\n",
       "1       Dach  360.00    0.15                           1   54.0000\n",
       "2   Fußboden  360.00    0.40                           1  144.0000\n",
       "3  AW (opak)  645.12    0.30                           1  193.5360\n",
       "4    Fenster  430.08    0.93                           1  399.9744"
      ]
     },
     "execution_count": 3,
     "metadata": {},
     "output_type": "execute_result"
    }
   ],
   "source": [
    "test.hull_df\n",
    "#note that the original excel only had the "
   ]
  },
  {
   "cell_type": "code",
   "execution_count": 5,
   "id": "characteristic-acrobat",
   "metadata": {},
   "outputs": [
    {
     "data": {
      "text/plain": [
       "0.4282163004705883"
      ]
     },
     "execution_count": 5,
     "metadata": {},
     "output_type": "execute_result"
    }
   ],
   "source": [
    "ph = Building(\"data/building_ph.xlsx\")\n",
    "ph.LT\n"
   ]
  },
  {
   "cell_type": "code",
   "execution_count": 7,
   "id": "spiritual-processor",
   "metadata": {},
   "outputs": [
    {
     "data": {
      "text/html": [
       "<div>\n",
       "<style scoped>\n",
       "    .dataframe tbody tr th:only-of-type {\n",
       "        vertical-align: middle;\n",
       "    }\n",
       "\n",
       "    .dataframe tbody tr th {\n",
       "        vertical-align: top;\n",
       "    }\n",
       "\n",
       "    .dataframe thead th {\n",
       "        text-align: right;\n",
       "    }\n",
       "</style>\n",
       "<table border=\"1\" class=\"dataframe\">\n",
       "  <thead>\n",
       "    <tr style=\"text-align: right;\">\n",
       "      <th></th>\n",
       "      <th>Bauteil</th>\n",
       "      <th>Fläche</th>\n",
       "      <th>U-Wert</th>\n",
       "      <th>Temperatur-Korrekturfaktor</th>\n",
       "      <th>L_B</th>\n",
       "    </tr>\n",
       "  </thead>\n",
       "  <tbody>\n",
       "    <tr>\n",
       "      <th>1</th>\n",
       "      <td>Dach</td>\n",
       "      <td>360.00</td>\n",
       "      <td>0.10</td>\n",
       "      <td>1</td>\n",
       "      <td>36.0000</td>\n",
       "    </tr>\n",
       "    <tr>\n",
       "      <th>2</th>\n",
       "      <td>Fußboden</td>\n",
       "      <td>360.00</td>\n",
       "      <td>0.15</td>\n",
       "      <td>1</td>\n",
       "      <td>54.0000</td>\n",
       "    </tr>\n",
       "    <tr>\n",
       "      <th>3</th>\n",
       "      <td>AW (opak)</td>\n",
       "      <td>645.12</td>\n",
       "      <td>0.12</td>\n",
       "      <td>1</td>\n",
       "      <td>77.4144</td>\n",
       "    </tr>\n",
       "    <tr>\n",
       "      <th>4</th>\n",
       "      <td>Fenster</td>\n",
       "      <td>430.08</td>\n",
       "      <td>0.93</td>\n",
       "      <td>1</td>\n",
       "      <td>399.9744</td>\n",
       "    </tr>\n",
       "  </tbody>\n",
       "</table>\n",
       "</div>"
      ],
      "text/plain": [
       "     Bauteil  Fläche  U-Wert  Temperatur-Korrekturfaktor       L_B\n",
       "1       Dach  360.00    0.10                           1   36.0000\n",
       "2   Fußboden  360.00    0.15                           1   54.0000\n",
       "3  AW (opak)  645.12    0.12                           1   77.4144\n",
       "4    Fenster  430.08    0.93                           1  399.9744"
      ]
     },
     "execution_count": 7,
     "metadata": {},
     "output_type": "execute_result"
    }
   ],
   "source": [
    "ph.hull_df"
   ]
  },
  {
   "cell_type": "code",
   "execution_count": 6,
   "id": "blessed-effort",
   "metadata": {},
   "outputs": [
    {
     "data": {
      "text/plain": [
       "0.4708023032085562"
      ]
     },
     "execution_count": 6,
     "metadata": {},
     "output_type": "execute_result"
    }
   ],
   "source": [
    "oib = Building(\"data/building_oib_16linie.xlsx\")\n",
    "oib.LT"
   ]
  },
  {
   "cell_type": "code",
   "execution_count": 8,
   "id": "embedded-cleaners",
   "metadata": {},
   "outputs": [
    {
     "data": {
      "text/html": [
       "<div>\n",
       "<style scoped>\n",
       "    .dataframe tbody tr th:only-of-type {\n",
       "        vertical-align: middle;\n",
       "    }\n",
       "\n",
       "    .dataframe tbody tr th {\n",
       "        vertical-align: top;\n",
       "    }\n",
       "\n",
       "    .dataframe thead th {\n",
       "        text-align: right;\n",
       "    }\n",
       "</style>\n",
       "<table border=\"1\" class=\"dataframe\">\n",
       "  <thead>\n",
       "    <tr style=\"text-align: right;\">\n",
       "      <th></th>\n",
       "      <th>Bauteil</th>\n",
       "      <th>Fläche</th>\n",
       "      <th>U-Wert</th>\n",
       "      <th>Temperatur-Korrekturfaktor</th>\n",
       "      <th>L_B</th>\n",
       "    </tr>\n",
       "  </thead>\n",
       "  <tbody>\n",
       "    <tr>\n",
       "      <th>1</th>\n",
       "      <td>Dach</td>\n",
       "      <td>360.00</td>\n",
       "      <td>0.12</td>\n",
       "      <td>1</td>\n",
       "      <td>43.2000</td>\n",
       "    </tr>\n",
       "    <tr>\n",
       "      <th>2</th>\n",
       "      <td>Fußboden</td>\n",
       "      <td>360.00</td>\n",
       "      <td>0.19</td>\n",
       "      <td>1</td>\n",
       "      <td>68.4000</td>\n",
       "    </tr>\n",
       "    <tr>\n",
       "      <th>3</th>\n",
       "      <td>AW (opak)</td>\n",
       "      <td>645.12</td>\n",
       "      <td>0.18</td>\n",
       "      <td>1</td>\n",
       "      <td>116.1216</td>\n",
       "    </tr>\n",
       "    <tr>\n",
       "      <th>4</th>\n",
       "      <td>Fenster</td>\n",
       "      <td>430.08</td>\n",
       "      <td>0.93</td>\n",
       "      <td>1</td>\n",
       "      <td>399.9744</td>\n",
       "    </tr>\n",
       "  </tbody>\n",
       "</table>\n",
       "</div>"
      ],
      "text/plain": [
       "     Bauteil  Fläche  U-Wert  Temperatur-Korrekturfaktor       L_B\n",
       "1       Dach  360.00    0.12                           1   43.2000\n",
       "2   Fußboden  360.00    0.19                           1   68.4000\n",
       "3  AW (opak)  645.12    0.18                           1  116.1216\n",
       "4    Fenster  430.08    0.93                           1  399.9744"
      ]
     },
     "execution_count": 8,
     "metadata": {},
     "output_type": "execute_result"
    }
   ],
   "source": [
    "oib.hull_df"
   ]
  }
 ],
 "metadata": {
  "kernelspec": {
   "display_name": "Simulation",
   "language": "python",
   "name": "simulation"
  },
  "language_info": {
   "codemirror_mode": {
    "name": "ipython",
    "version": 3
   },
   "file_extension": ".py",
   "mimetype": "text/x-python",
   "name": "python",
   "nbconvert_exporter": "python",
   "pygments_lexer": "ipython3",
   "version": "3.8.5"
  },
  "toc": {
   "base_numbering": 1,
   "nav_menu": {},
   "number_sections": true,
   "sideBar": true,
   "skip_h1_title": false,
   "title_cell": "Table of Contents",
   "title_sidebar": "Contents",
   "toc_cell": false,
   "toc_position": {},
   "toc_section_display": true,
   "toc_window_display": false
  }
 },
 "nbformat": 4,
 "nbformat_minor": 5
}
