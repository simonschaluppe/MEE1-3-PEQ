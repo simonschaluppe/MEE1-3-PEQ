{
 "cells": [
  {
   "cell_type": "markdown",
   "metadata": {
    "collapsed": true,
    "pycharm": {
     "name": "#%% md\n"
    }
   },
   "source": [
    "# External Data\n",
    "## CityBike\n",
    "Write a function that lists all the nearest citybike stations to a given location.\n",
    "\n",
    "When starting a project like this it is useful to think about the steps required to arrive at the final solution.\n",
    "in the case of the citybike example, this could look something like this:\n",
    "* get the citybike data from the web\n",
    "    * in particular, get the location of the stations\n",
    "* calculate the distances from the station locations to a given point\n",
    "* wrap and format everything nicely\n",
    "\n",
    "### Exploring the data\n",
    "first, let's check out the available data on citybikes to see what we are working with. You can also look at this in a webbrowser\n",
    "but beware: [Humans should never gaze upon unfiltered data!](https://rackandstack-tech.blog/2019/11/12/the-mental-game-of-python-raymond-hettinger/)\n",
    "\n",
    "\n",
    "http://dynamisch.citybikewien.at/citybike_xml.php?json"
   ]
  },
  {
   "cell_type": "code",
   "execution_count": 133,
   "outputs": [
    {
     "data": {
      "text/plain": "(<Response [200]>, requests.models.Response)"
     },
     "execution_count": 133,
     "metadata": {},
     "output_type": "execute_result"
    }
   ],
   "source": [
    "import requests\n",
    "\n",
    "data = requests.get(url=\"http://dynamisch.citybikewien.at/citybike_xml.php?json\")\n",
    "data, type(data)"
   ],
   "metadata": {
    "collapsed": false,
    "pycharm": {
     "name": "#%%\n"
    }
   }
  },
  {
   "cell_type": "markdown",
   "source": [
    "whats that Response object? what can we do with it?\n",
    "\n",
    "we can look in the [documentation here]() or just look at the ```help(on_something_please)``` directly"
   ],
   "metadata": {
    "collapsed": false,
    "pycharm": {
     "name": "#%% md\n"
    }
   }
  },
  {
   "cell_type": "code",
   "execution_count": 131,
   "outputs": [
    {
     "name": "stdout",
     "output_type": "stream",
     "text": [
      "Help on Response in module requests.models object:\n",
      "\n",
      "class Response(builtins.object)\n",
      " |  The :class:`Response <Response>` object, which contains a\n",
      " |  server's response to an HTTP request.\n",
      " |  \n",
      " |  Methods defined here:\n",
      " |  \n",
      " |  __bool__(self)\n",
      " |      Returns True if :attr:`status_code` is less than 400.\n",
      " |      \n",
      " |      This attribute checks if the status code of the response is between\n",
      " |      400 and 600 to see if there was a client error or a server error. If\n",
      " |      the status code, is between 200 and 400, this will return True. This\n",
      " |      is **not** a check to see if the response code is ``200 OK``.\n",
      " |  \n",
      " |  __enter__(self)\n",
      " |  \n",
      " |  __exit__(self, *args)\n",
      " |  \n",
      " |  __getstate__(self)\n",
      " |  \n",
      " |  __init__(self)\n",
      " |      Initialize self.  See help(type(self)) for accurate signature.\n",
      " |  \n",
      " |  __iter__(self)\n",
      " |      Allows you to use a response as an iterator.\n",
      " |  \n",
      " |  __nonzero__(self)\n",
      " |      Returns True if :attr:`status_code` is less than 400.\n",
      " |      \n",
      " |      This attribute checks if the status code of the response is between\n",
      " |      400 and 600 to see if there was a client error or a server error. If\n",
      " |      the status code, is between 200 and 400, this will return True. This\n",
      " |      is **not** a check to see if the response code is ``200 OK``.\n",
      " |  \n",
      " |  __repr__(self)\n",
      " |      Return repr(self).\n",
      " |  \n",
      " |  __setstate__(self, state)\n",
      " |  \n",
      " |  close(self)\n",
      " |      Releases the connection back to the pool. Once this method has been\n",
      " |      called the underlying ``raw`` object must not be accessed again.\n",
      " |      \n",
      " |      *Note: Should not normally need to be called explicitly.*\n",
      " |  \n",
      " |  iter_content(self, chunk_size=1, decode_unicode=False)\n",
      " |      Iterates over the response data.  When stream=True is set on the\n",
      " |      request, this avoids reading the content at once into memory for\n",
      " |      large responses.  The chunk size is the number of bytes it should\n",
      " |      read into memory.  This is not necessarily the length of each item\n",
      " |      returned as decoding can take place.\n",
      " |      \n",
      " |      chunk_size must be of type int or None. A value of None will\n",
      " |      function differently depending on the value of `stream`.\n",
      " |      stream=True will read data as it arrives in whatever size the\n",
      " |      chunks are received. If stream=False, data is returned as\n",
      " |      a single chunk.\n",
      " |      \n",
      " |      If decode_unicode is True, content will be decoded using the best\n",
      " |      available encoding based on the response.\n",
      " |  \n",
      " |  iter_lines(self, chunk_size=512, decode_unicode=False, delimiter=None)\n",
      " |      Iterates over the response data, one line at a time.  When\n",
      " |      stream=True is set on the request, this avoids reading the\n",
      " |      content at once into memory for large responses.\n",
      " |      \n",
      " |      .. note:: This method is not reentrant safe.\n",
      " |  \n",
      " |  json(self, **kwargs)\n",
      " |      Returns the json-encoded content of a response, if any.\n",
      " |      \n",
      " |      :param \\*\\*kwargs: Optional arguments that ``json.loads`` takes.\n",
      " |      :raises simplejson.JSONDecodeError: If the response body does not\n",
      " |          contain valid json and simplejson is installed.\n",
      " |      :raises json.JSONDecodeError: If the response body does not contain\n",
      " |          valid json and simplejson is not installed on Python 3.\n",
      " |      :raises ValueError: If the response body does not contain valid\n",
      " |          json and simplejson is not installed on Python 2.\n",
      " |  \n",
      " |  raise_for_status(self)\n",
      " |      Raises :class:`HTTPError`, if one occurred.\n",
      " |  \n",
      " |  ----------------------------------------------------------------------\n",
      " |  Readonly properties defined here:\n",
      " |  \n",
      " |  apparent_encoding\n",
      " |      The apparent encoding, provided by the charset_normalizer or chardet libraries.\n",
      " |  \n",
      " |  content\n",
      " |      Content of the response, in bytes.\n",
      " |  \n",
      " |  is_permanent_redirect\n",
      " |      True if this Response one of the permanent versions of redirect.\n",
      " |  \n",
      " |  is_redirect\n",
      " |      True if this Response is a well-formed HTTP redirect that could have\n",
      " |      been processed automatically (by :meth:`Session.resolve_redirects`).\n",
      " |  \n",
      " |  links\n",
      " |      Returns the parsed header links of the response, if any.\n",
      " |  \n",
      " |  next\n",
      " |      Returns a PreparedRequest for the next request in a redirect chain, if there is one.\n",
      " |  \n",
      " |  ok\n",
      " |      Returns True if :attr:`status_code` is less than 400, False if not.\n",
      " |      \n",
      " |      This attribute checks if the status code of the response is between\n",
      " |      400 and 600 to see if there was a client error or a server error. If\n",
      " |      the status code is between 200 and 400, this will return True. This\n",
      " |      is **not** a check to see if the response code is ``200 OK``.\n",
      " |  \n",
      " |  text\n",
      " |      Content of the response, in unicode.\n",
      " |      \n",
      " |      If Response.encoding is None, encoding will be guessed using\n",
      " |      ``charset_normalizer`` or ``chardet``.\n",
      " |      \n",
      " |      The encoding of the response content is determined based solely on HTTP\n",
      " |      headers, following RFC 2616 to the letter. If you can take advantage of\n",
      " |      non-HTTP knowledge to make a better guess at the encoding, you should\n",
      " |      set ``r.encoding`` appropriately before accessing this property.\n",
      " |  \n",
      " |  ----------------------------------------------------------------------\n",
      " |  Data descriptors defined here:\n",
      " |  \n",
      " |  __dict__\n",
      " |      dictionary for instance variables (if defined)\n",
      " |  \n",
      " |  __weakref__\n",
      " |      list of weak references to the object (if defined)\n",
      " |  \n",
      " |  ----------------------------------------------------------------------\n",
      " |  Data and other attributes defined here:\n",
      " |  \n",
      " |  __attrs__ = ['_content', 'status_code', 'headers', 'url', 'history', '...\n",
      "\n"
     ]
    }
   ],
   "source": [
    "help(data)"
   ],
   "metadata": {
    "collapsed": false,
    "pycharm": {
     "name": "#%%\n"
    }
   }
  },
  {
   "cell_type": "code",
   "execution_count": 134,
   "outputs": [
    {
     "data": {
      "text/plain": "'application/json;charset=utf-8'"
     },
     "execution_count": 134,
     "metadata": {},
     "output_type": "execute_result"
    }
   ],
   "source": [
    "data.headers['content-type']"
   ],
   "metadata": {
    "collapsed": false,
    "pycharm": {
     "name": "#%%\n"
    }
   }
  },
  {
   "cell_type": "markdown",
   "source": [
    "The url *AND* header info on the content type suggest that the response can in fact be interpreted as json format.\n",
    "\n",
    "As the old saying goes:\n",
    "> if it looks like a duck\n",
    ">\n",
    "> and quacks like a duck...\n",
    ">\n",
    "> it probably is a duck\n",
    "\n",
    "So let's try interpreting the response as json:"
   ],
   "metadata": {
    "collapsed": false,
    "pycharm": {
     "name": "#%% md\n"
    }
   }
  },
  {
   "cell_type": "code",
   "execution_count": 139,
   "outputs": [
    {
     "name": "stdout",
     "output_type": "stream",
     "text": [
      "type(cb_json)=<class 'list'>\n",
      "len(cb_json)=119\n"
     ]
    }
   ],
   "source": [
    "cb_json = data.json()\n",
    "print(f\"{type(cb_json)=}\\n{len(cb_json)=}\")"
   ],
   "metadata": {
    "collapsed": false,
    "pycharm": {
     "name": "#%%\n"
    }
   }
  },
  {
   "cell_type": "markdown",
   "source": [
    "so the json interpretation yields us a list with 119 entries.let's see what they hold"
   ],
   "metadata": {
    "collapsed": false,
    "pycharm": {
     "name": "#%% md\n"
    }
   }
  },
  {
   "cell_type": "code",
   "execution_count": 140,
   "outputs": [
    {
     "name": "stdout",
     "output_type": "stream",
     "text": [
      "example: Erstes Element: cb_json[0]\n"
     ]
    },
    {
     "data": {
      "text/plain": "{'id': 108,\n 'name': 'Friedrich Schmidtplatz',\n 'status': 'aktiv',\n 'description': 'Ecke Lichtenfelsgasse U2 Station Rathaus',\n 'boxes': 24,\n 'free_boxes': 23,\n 'free_bikes': 1,\n 'longitude': 16.356581,\n 'latitude': 48.211433,\n 'internal_id': 1026}"
     },
     "execution_count": 140,
     "metadata": {},
     "output_type": "execute_result"
    }
   ],
   "source": [
    "print(\"example: Erstes Element: cb_json[0]\")\n",
    "cb_json[0]"
   ],
   "metadata": {
    "collapsed": false,
    "pycharm": {
     "name": "#%%\n"
    }
   }
  },
  {
   "cell_type": "markdown",
   "source": [
    "Perfect! Each element in the list is a dictionary, representing the data on a particular city bike station.\n",
    "Apart from the name, status, description and how many bikes and boxes are available, we also have the positional information\n",
    "on the location of the stations as latitude and longitude coordinates\n",
    "\n",
    "To use this, we first need a way to calculate the distance between two locations.\n",
    "So let's write a function, that takes two positions and returns their distance:"
   ],
   "metadata": {
    "collapsed": false,
    "pycharm": {
     "name": "#%% md\n"
    }
   }
  },
  {
   "cell_type": "code",
   "execution_count": 34,
   "outputs": [],
   "source": [
    "from math import sqrt\n",
    "\n",
    "def distance(a: tuple, b: tuple):\n",
    "    \"\"\"\n",
    "    Returns the 2D distance of 2 points represented as tuples\n",
    "    :param a: tuple(x: float, y: float)\n",
    "    :param b: tuple(x: float, y: float\n",
    "    :return:  Distance\n",
    "    \"\"\"\n",
    "    dx = abs(a[0] - b[0])\n",
    "    dy = abs(a[1] - b[1])\n",
    "    return sqrt(dx**2 + dy**2)"
   ],
   "metadata": {
    "collapsed": false,
    "pycharm": {
     "name": "#%%\n"
    }
   }
  },
  {
   "cell_type": "markdown",
   "source": [
    "Let's do some tests"
   ],
   "metadata": {
    "collapsed": false,
    "pycharm": {
     "name": "#%% md\n"
    }
   }
  },
  {
   "cell_type": "code",
   "execution_count": 30,
   "outputs": [
    {
     "data": {
      "text/plain": "5.0"
     },
     "execution_count": 30,
     "metadata": {},
     "output_type": "execute_result"
    }
   ],
   "source": [
    "distance((0,4), (3,0))"
   ],
   "metadata": {
    "collapsed": false,
    "pycharm": {
     "name": "#%%\n"
    }
   }
  },
  {
   "cell_type": "code",
   "execution_count": 32,
   "outputs": [
    {
     "data": {
      "text/plain": "5.0"
     },
     "execution_count": 32,
     "metadata": {},
     "output_type": "execute_result"
    }
   ],
   "source": [
    "distance((0,-4), (-3,0))"
   ],
   "metadata": {
    "collapsed": false,
    "pycharm": {
     "name": "#%%\n"
    }
   }
  },
  {
   "cell_type": "code",
   "execution_count": 39,
   "outputs": [
    {
     "data": {
      "text/plain": "((16.356581, 48.211433), (16.37298586854365, 48.210666083418))"
     },
     "execution_count": 39,
     "metadata": {},
     "output_type": "execute_result"
    }
   ],
   "source": [
    "station1 = (cb_json[0][\"longitude\"], cb_json[0][\"latitude\"])\n",
    "station2 = (cb_json[1][\"longitude\"], cb_json[1][\"latitude\"])\n",
    "station1, station2"
   ],
   "metadata": {
    "collapsed": false,
    "pycharm": {
     "name": "#%%\n"
    }
   }
  },
  {
   "cell_type": "code",
   "execution_count": 40,
   "outputs": [
    {
     "data": {
      "text/plain": "0.016422785177255206"
     },
     "execution_count": 40,
     "metadata": {},
     "output_type": "execute_result"
    }
   ],
   "source": [
    "distance(station1, station2)"
   ],
   "metadata": {
    "collapsed": false,
    "pycharm": {
     "name": "#%%\n"
    }
   }
  },
  {
   "cell_type": "markdown",
   "source": [
    "It works, but what does that actually mean?\n",
    "\n",
    "What units is the result in? Give it a minute of thought"
   ],
   "metadata": {
    "collapsed": false,
    "pycharm": {
     "name": "#%% md\n"
    }
   }
  },
  {
   "cell_type": "markdown",
   "source": [
    "### Distances on earth\n",
    "Since latitude and longitude are actually angles on the sphere of the earth,\n",
    "we need to take this into account.\n",
    "We actually need to convert the difference in latitude and longitude in meters on the surface.\n",
    "you remember your sin/cos and the radius of the earth, right?\n",
    "\n",
    "Also, the earth is not actually a sphere, but an ellipsoid. That means that the closer we are to the poles,\n",
    "the bigger the actual distance on the surface per angle.\n",
    "\n",
    "So the question is: How do we calculate a distance on the earth between two coordinates?\n",
    "\n",
    "This is where the open source nature and the rich ecosystem of python really shine:\n",
    "As with many other common problems, there sure is a third party library by someone who has already\n",
    "solved the problem. And much better, safer and more precise than we ever could.\n",
    "\n",
    "Quick google search \"python distance latitude longitude\" reveals an appropriate answer:\n",
    "https://geopy.readthedocs.io/en/stable/#"
   ],
   "metadata": {
    "collapsed": false,
    "pycharm": {
     "name": "#%% md\n"
    }
   }
  },
  {
   "cell_type": "code",
   "execution_count": 41,
   "outputs": [],
   "source": [
    "import geopy"
   ],
   "metadata": {
    "collapsed": false,
    "pycharm": {
     "name": "#%%\n"
    }
   }
  },
  {
   "cell_type": "markdown",
   "source": [
    "This import statement will most likely cause an error with your vanilla python installation.\n",
    "It is a third party library that first needs installation.\n",
    "There are many ways of installing it, the easiest is probably:\n",
    "\n",
    "Open a terminal/command line in your system and simply type:\n",
    "```terminal\n",
    "> pip install geopy\n",
    "```\n",
    "You should see some download bars and a success message. More on ```pip install``` here: https://realpython.com/what-is-pip/\n",
    "\n",
    "Once that works, let's test the module"
   ],
   "metadata": {
    "collapsed": false,
    "pycharm": {
     "name": "#%% md\n"
    }
   }
  },
  {
   "cell_type": "code",
   "execution_count": 45,
   "outputs": [
    {
     "name": "stdout",
     "output_type": "stream",
     "text": [
      "279.35290160430094 km\n"
     ]
    }
   ],
   "source": [
    "coords_1 = (52.2296756, 21.0122287)\n",
    "coords_2 = (52.406374, 16.9251681)\n",
    "\n",
    "print(geopy.distance.distance(coords_1, coords_2))"
   ],
   "metadata": {
    "collapsed": false,
    "pycharm": {
     "name": "#%%\n"
    }
   }
  },
  {
   "cell_type": "markdown",
   "source": [
    "Perfect, now let's try it with the citybike data"
   ],
   "metadata": {
    "collapsed": false,
    "pycharm": {
     "name": "#%% md\n"
    }
   }
  },
  {
   "cell_type": "code",
   "execution_count": 49,
   "outputs": [
    {
     "data": {
      "text/plain": "Distance(1.8172514919453264)"
     },
     "execution_count": 49,
     "metadata": {},
     "output_type": "execute_result"
    }
   ],
   "source": [
    "geopy.distance.distance(station1, station2)"
   ],
   "metadata": {
    "collapsed": false,
    "pycharm": {
     "name": "#%%\n"
    }
   }
  },
  {
   "cell_type": "markdown",
   "source": [
    "Now let's define a  function that takes a location and calculate the distance to each station"
   ],
   "metadata": {
    "collapsed": false,
    "pycharm": {
     "name": "#%% md\n"
    }
   }
  },
  {
   "cell_type": "code",
   "execution_count": 115,
   "outputs": [],
   "source": [
    "def list_nearest(location: tuple, list_of_stations):\n",
    "    for station in list_of_stations:\n",
    "        station_location = (station[\"latitude\"], station[\"longitude\"])\n",
    "        dist = geopy.distance.distance(location, station_location)\n",
    "        #save the ddistance in the station\n",
    "        station[\"distance\"] = round(dist.km, 1)\n",
    "    list_of_stations.sort(key=lambda d: d[\"distance\"], reverse=False)\n",
    "    return list_of_stations\n"
   ],
   "metadata": {
    "collapsed": false,
    "pycharm": {
     "name": "#%%\n"
    }
   }
  },
  {
   "cell_type": "markdown",
   "source": [
    "Coordinates of the Energybase are\n",
    "48.2696523, 16.4271389 according to google maps\n",
    "\n",
    "And here's the nearest CityBike Stations:"
   ],
   "metadata": {
    "collapsed": false,
    "pycharm": {
     "name": "#%% md\n"
    }
   }
  },
  {
   "cell_type": "code",
   "execution_count": 84,
   "outputs": [
    {
     "name": "stdout",
     "output_type": "stream",
     "text": [
      "  1. [4.4 km] Millennium Tower     - 24/35\n",
      "  2. [4.6 km] Friedrich Engels Pla - 22/27\n",
      "  3. [5.0 km] Hellwagstraße        -  8/30\n",
      "  4. [5.1 km] Traisengasse         - 17/24\n",
      "  5. [5.6 km] Radingerstraße       - 27/33\n",
      "  6. [5.7 km] Jägerstraße U6       - 11/26\n",
      "  7. [6.0 km] Messeplatz           -  5/40\n",
      "  8. [6.0 km] Wallensteinplatz     - 16/27\n",
      "  9. [6.2 km] Krieau               - 10/24\n",
      " 10. [6.3 km] Heinestraße          - 14/38\n",
      " 11. [6.3 km] Praterstern          - 14/40\n",
      " 12. [6.4 km] Spittelau U4/U6      -  8/26\n",
      " 13. [6.5 km] Südportalstraße      - 21/40\n",
      " 14. [6.5 km] Novaragasse          - 15/24\n",
      " 15. [6.6 km] Friedensbrücke       -  3/26\n",
      " 16. [6.6 km] Stadion Center       - 17/40\n",
      " 17. [6.7 km] Nepomukgasse         -  9/15\n",
      " 18. [6.8 km] Althanstraße         -  3/22\n",
      " 19. [6.8 km] Roßauer Lände U4     - 15/28\n",
      " 20. [6.9 km] Julius-Tandler-Platz - 14/26\n",
      " 21. [6.9 km] Gymnasiumstraße      - 19/26\n",
      " 22. [6.9 km] Nussdorfer Straße U6 -  3/19\n",
      " 23. [7.0 km] Karmeliterplatz      -  3/14\n",
      " 24. [7.0 km] Obere Donaustraße    - 10/20\n",
      " 25. [7.1 km] Radetzkyplatz        - 16/28\n",
      " 26. [7.2 km] Berggasse            - 17/40\n",
      " 27. [7.2 km] Schottenring U4      - 15/21\n",
      " 28. [7.3 km] Julius Raab Platz    - 14/20\n",
      " 29. [7.3 km] Markthalle Alsergrun - 11/24\n",
      " 30. [7.3 km] Bauernfeldplatz      - 20/24\n",
      " 31. [7.4 km] Löblichgasse         -  1/23\n",
      " 32. [7.5 km] Schwedenplatz        -  9/30\n",
      " 33. [7.5 km] Kundmanngasse        - 20/27\n",
      " 34. [7.6 km] Boltzmanngasse       - 16/20\n",
      " 35. [7.7 km] Währinger Straße U6  -  0/20\n",
      " 36. [7.7 km] Hoher Markt          - 21/26\n",
      " 37. [7.7 km] Wien Mitte           - 15/28\n",
      " 38. [7.8 km] Stadtpark Stubenring -  9/20\n",
      " 39. [7.8 km] Sigmund Freud Park   - 19/36\n",
      " 40. [7.9 km] Gertrudplatz         -  3/24\n",
      " 41. [7.9 km] Salmgasse            -  0/18\n",
      " 42. [7.9 km] Sensengasse          -  9/20\n",
      " 43. [8.0 km] Singerstraße         - 18/22\n",
      " 44. [8.0 km] Wallnerstraße        - 25/27\n",
      " 45. [8.1 km] Frankhplatz          - 15/20\n",
      " 46. [8.1 km] Universitätsring     - 11/38\n",
      " 47. [8.2 km] Michelbeuern         -  4/31\n",
      " 48. [8.2 km] Wassergasse          -  4/20\n",
      " 49. [8.2 km] Bahngasse            - 27/30\n",
      " 50. [8.2 km] Aumannplatz          -  8/24\n",
      " 51. [8.3 km] Johannesgasse        - 10/20\n",
      " 52. [8.3 km] Rathausplatz         -  2/20\n",
      " 53. [8.3 km] Friedrich Schmidtpla -  0/24\n",
      " 54. [8.4 km] Gersthof             -  6/26\n",
      " 55. [8.5 km] Juchgasse            -  7/24\n",
      " 56. [8.5 km] Alser Straße/Feldgas -  5/12\n",
      " 57. [8.6 km] Kärntner Ring        - 15/16\n",
      " 58. [8.6 km] Oper                 - 17/23\n",
      " 59. [8.6 km] Volksgarten          -  2/16\n",
      " 60. [8.7 km] Alser Straße U6      -  2/23\n",
      " 61. [8.7 km] Schwarzenbergplatz   - 11/20\n",
      " 62. [8.7 km] Dornerplatz          -  6/24\n",
      " 63. [8.8 km] Petrusgasse          - 16/28\n",
      " 64. [8.8 km] Weghuberpark         -  2/20\n",
      " 65. [8.9 km] Palffygasse          -  3/27\n",
      " 66. [8.9 km] Treitlstraße         - 19/20\n",
      " 67. [8.9 km] Fasanplatz           -  1/10\n",
      " 68. [8.9 km] Museumsplatz         - 24/36\n",
      " 69. [9.0 km] Blumengasse          -  0/24\n",
      " 70. [9.0 km] Albertgasse          -  7/32\n",
      " 71. [9.1 km] Elterleinplatz       -  0/16\n",
      " 72. [9.1 km] Arbeiterkammer       - 24/24\n",
      " 73. [9.1 km] Josefstädter Straße  -  4/26\n",
      " 74. [9.2 km] Yppenplatz           - 18/25\n",
      " 75. [9.3 km] Rosensteingasse      -  0/24\n",
      " 76. [9.3 km] Schottenfeldgasse    -  2/27\n",
      " 77. [9.3 km] Siebensternplatz     -  2/19\n",
      " 78. [9.5 km] Brestelgasse         - 18/24\n",
      " 79. [9.5 km] Heumühlgasse         - 20/20\n",
      " 80. [9.5 km] Thaliastraße U6      - 17/28\n",
      " 81. [9.6 km] Sankt-Elisabeth-Plat - 19/21\n",
      " 82. [9.6 km] Mayerhofgasse        - 10/19\n",
      " 83. [9.7 km] Falco Stiege         -  5/17\n",
      " 84. [9.7 km] Kollergerngasse      - 17/20\n",
      " 85. [9.8 km] Hernals S45          - 10/30\n",
      " 86. [9.9 km] Richard-Wagner-Platz -  3/25\n",
      " 87. [9.9 km] Burggasse U6         -  1/20\n",
      " 88. [10.0 km] Hauptbahnhof         -  1/39\n",
      " 89. [10.1 km] Pilgramgasse U4      - 18/21\n",
      " 90. [10.1 km] Fröbelgasse          -  0/27\n",
      " 91. [10.1 km] Urban Loritz Platz   -  4/25\n",
      " 92. [10.1 km] Mittersteig          -  0/28\n",
      " 93. [10.2 km] Hauptbahnhof West    - 14/40\n",
      " 94. [10.2 km] Webgasse             -  0/14\n",
      " 95. [10.3 km] Hartmanngasse        -  4/26\n",
      " 96. [10.4 km] Schuhmeierplatz      - 14/24\n",
      " 97. [10.4 km] Westbahnhof Felberst - 28/40\n",
      " 98. [10.4 km] Markgraf-Rüdiger-Str -  0/32\n",
      " 99. [10.4 km] Westbahnhof Europapl - 11/40\n",
      "100. [10.6 km] Reinprechtsdorfer Br - 19/20\n",
      "101. [10.7 km] Ottakring U3         - 24/39\n",
      "102. [10.7 km] Schweglerstraße      -  0/26\n",
      "103. [10.9 km] Siebenbrunnenplatz   - 17/26\n",
      "104. [10.9 km] Schmelzbrücke        -  0/24\n",
      "105. [10.9 km] Margaretengürtel U4  - 15/30\n",
      "106. [11.0 km] Turnergasse          - 11/22\n",
      "107. [11.1 km] Gumpendorfer Gürtel  - 11/27\n",
      "108. [11.2 km] Matzleinsdorfer Plat -  8/24\n",
      "109. [11.2 km] Selzergasse          -  2/25\n",
      "110. [11.3 km] Meiselmarkt          - 16/28\n",
      "111. [11.3 km] Arbeitergasse        - 24/26\n",
      "112. [11.6 km] Schwendermarkt       -  0/35\n",
      "113. [11.7 km] Wieningerplatz       - 17/25\n",
      "114. [11.8 km] Längenfeldgasse      - 17/25\n",
      "115. [12.0 km] Technisches Museum   - 28/31\n",
      "116. [12.3 km] Reschgasse           - 11/15\n",
      "117. [12.3 km] Schönbrunner Brücke  -  6/16\n",
      "118. [12.5 km] Schönbrunn Haupteing - 23/40\n",
      "119. [12.7 km] Vivenotgasse         -  5/24\n"
     ]
    }
   ],
   "source": [
    "energybase = (48.2696523, 16.4271389)\n",
    "result = list_nearest(energybase)\n",
    "for i, station in enumerate(result):\n",
    "    #help with enumerate: https://realpython.com/python-enumerate/\n",
    "    print(f\"{i+1:3}. [{station['distance']:2.1f} km] {station['name'][:20]:20s} - {station['free_bikes']:2}/{station['boxes']}\")\n",
    "    #help on format strings: https://realpython.com/python-f-strings/#f-strings-a-new-and-improved-way-to-format-strings-in-python"
   ],
   "metadata": {
    "collapsed": false,
    "pycharm": {
     "name": "#%%\n"
    }
   }
  },
  {
   "cell_type": "markdown",
   "source": [
    "Now let's check if this actually correct:\n",
    "https://www.google.com/search?client=firefox-b-d&tbs=lf:1,lf_ui:3&tbm=lcl&q=city+bike+terminal&rflfq=1&num=10&ved=2ahUKEwik7o_j3tPzAhXBlIsKHZHfCEcQtgN6BAgNEAQ#rlfi=hd:;si:5765786581731636286;mv:[[48.24762833716234,16.404557336422684],[48.235752855295445,16.375804055783036],null,[48.24169094084712,16.39018069610286],16]"
   ],
   "metadata": {
    "collapsed": false,
    "pycharm": {
     "name": "#%% md\n"
    }
   }
  },
  {
   "cell_type": "markdown",
   "source": [
    "### Addresses as inputs\n",
    "Another thing that is still kinda messy, is that we need to come up with coordinates\n",
    "ourselves by looking up the address in google maps.\n",
    "Wouldn't it be much nicer, if we could just input an address to python directly, and it fetches the coordinates for us?\n",
    "\n",
    "It is relatively easy using open streetmaps\n",
    "\n",
    "#%"
   ],
   "metadata": {
    "collapsed": false
   }
  },
  {
   "cell_type": "code",
   "execution_count": 104,
   "outputs": [
    {
     "data": {
      "text/plain": "'Giefinggasse%206%2C%201020%20Wien'"
     },
     "execution_count": 104,
     "metadata": {},
     "output_type": "execute_result"
    }
   ],
   "source": [
    "\n",
    "address=\"Giefinggasse 6, 1020 Wien\"\n",
    "addurl = address.replace(\" \", \"%20\")\n",
    "addurl = addurl.replace(\",\", \"%2C\")\n",
    "addurl"
   ],
   "metadata": {
    "collapsed": false,
    "pycharm": {
     "name": "#%%\n"
    }
   }
  },
  {
   "cell_type": "markdown",
   "source": [
    "the replacement of strings is necessary for the string to work as an url\n",
    "\n",
    "easier way to do it is using a dedicated library like such:"
   ],
   "metadata": {
    "collapsed": false,
    "pycharm": {
     "name": "#%% md\n"
    }
   }
  },
  {
   "cell_type": "code",
   "execution_count": 106,
   "outputs": [
    {
     "data": {
      "text/plain": "'Giefinggasse%206%2C%201020%20Wien'"
     },
     "execution_count": 106,
     "metadata": {},
     "output_type": "execute_result"
    }
   ],
   "source": [
    "import urllib.parse\n",
    "addurl = urllib.parse.quote(address)\n",
    "addurl"
   ],
   "metadata": {
    "collapsed": false,
    "pycharm": {
     "name": "#%%\n"
    }
   }
  },
  {
   "cell_type": "code",
   "execution_count": 109,
   "outputs": [
    {
     "data": {
      "text/plain": "('48.2696395', '16.427355625558313')"
     },
     "execution_count": 109,
     "metadata": {},
     "output_type": "execute_result"
    }
   ],
   "source": [
    "url = 'https://nominatim.openstreetmap.org/search/' + urllib.parse.quote(addurl) +'?format=json'\n",
    "\n",
    "response = requests.get(url).json()\n",
    "location = (response[0][\"lat\"], response[0][\"lon\"])\n",
    "location"
   ],
   "metadata": {
    "collapsed": false,
    "pycharm": {
     "name": "#%%\n"
    }
   }
  },
  {
   "cell_type": "markdown",
   "source": [
    "let's use this to create a function that takes an address and returns a location tuple"
   ],
   "metadata": {
    "collapsed": false,
    "pycharm": {
     "name": "#%% md\n"
    }
   }
  },
  {
   "cell_type": "code",
   "execution_count": 121,
   "outputs": [
    {
     "data": {
      "text/plain": "('48.2696395', '16.427355625558313')"
     },
     "execution_count": 121,
     "metadata": {},
     "output_type": "execute_result"
    }
   ],
   "source": [
    "def from_address(address_string=\"Stephansplatz, Wien, Österreich\"):\n",
    "    parsed_address = urllib.parse.quote(address_string)\n",
    "    url = 'https://nominatim.openstreetmap.org/search/' + parsed_address +'?format=json'\n",
    "    response = requests.get(url).json()\n",
    "    location = (response[0][\"lat\"], response[0][\"lon\"])\n",
    "    return location\n",
    "\n",
    "from_address(\"Giefinggasse 6, 1020 Wien, Österreich\")"
   ],
   "metadata": {
    "collapsed": false,
    "pycharm": {
     "name": "#%%\n"
    }
   }
  },
  {
   "cell_type": "markdown",
   "source": [
    "### Putting it all together\n",
    "Now let's create a function that puts all of this together:\n",
    "1. fetch the current citybike data\n",
    "2. calculates the\n",
    "\n",
    "some further sueful material:\n",
    "https://towardsdatascience.com/geocode-with-python-161ec1e62b89\n"
   ],
   "metadata": {
    "collapsed": false
   }
  },
  {
   "cell_type": "code",
   "execution_count": 125,
   "outputs": [
    {
     "name": "stdout",
     "output_type": "stream",
     "text": [
      "10 nearest Stations to Arbeitergasse 5, Wien:\n",
      "_____________________\n",
      "  1. [0.1 km] Siebenbrunnenplatz   - 18/26\n",
      "  2. [0.4 km] Reinprechtsdorfer Br - 19/20\n",
      "  3. [0.5 km] Arbeitergasse        - 24/26\n",
      "  4. [0.7 km] Margaretengürtel U4  - 15/30\n",
      "  5. [0.7 km] Matzleinsdorfer Plat -  8/24\n",
      "  6. [0.8 km] Mittersteig          -  3/28\n",
      "  7. [0.8 km] Pilgramgasse U4      - 18/21\n",
      "  8. [0.9 km] Hartmanngasse        -  6/26\n",
      "  9. [1.1 km] Gumpendorfer Gürtel  - 12/27\n",
      " 10. [1.2 km] Falco Stiege         -  4/17\n"
     ]
    }
   ],
   "source": [
    "def closest_citybikes(address=\"Stephansplatz, Wien, Österreich\", num_results=10):\n",
    "    cb_data = requests.get(url=\"http://dynamisch.citybikewien.at/citybike_xml.php?json\")\n",
    "    cb_json = cb_data.json()\n",
    "\n",
    "    location = from_address(address)\n",
    "    result = list_nearest(location, list_of_stations=cb_json)\n",
    "\n",
    "    print(f\"{num_results} nearest Stations to {address}:\")\n",
    "    print(\"_\"*len(address))\n",
    "    for i, station in enumerate(result[:num_results]):\n",
    "        print(f\"{i+1:3}. [{station['distance']:2.1f} km] {station['name'][:20]:20s} - {station['free_bikes']:2}/{station['boxes']}\")\n",
    "\n",
    "closest_citybikes(\"Arbeitergasse 5, Wien\")"
   ],
   "metadata": {
    "collapsed": false,
    "pycharm": {
     "name": "#%%\n"
    }
   }
  },
  {
   "cell_type": "code",
   "source": [
    "closest_citybikes(num_results=20)"
   ],
   "metadata": {
    "collapsed": false,
    "pycharm": {
     "name": "#%%\n"
    }
   },
   "execution_count": 128,
   "outputs": [
    {
     "name": "stdout",
     "output_type": "stream",
     "text": [
      "20 nearest Stations to Stephansplatz, Wien, Österreich:\n",
      "_______________________________\n",
      "  1. [0.1 km] Singerstraße         - 21/22\n",
      "  2. [0.3 km] Hoher Markt          - 25/26\n",
      "  3. [0.4 km] Wallnerstraße        - 22/27\n",
      "  4. [0.5 km] Schwedenplatz        -  9/30\n",
      "  5. [0.7 km] Johannesgasse        -  9/20\n",
      "  6. [0.7 km] Kärntner Ring        - 14/16\n",
      "  7. [0.7 km] Oper                 - 18/23\n",
      "  8. [0.7 km] Stadtpark Stubenring - 11/20\n",
      "  9. [0.8 km] Julius Raab Platz    - 16/20\n",
      " 10. [0.8 km] Schottenring U4      - 15/21\n",
      " 11. [0.9 km] Rathausplatz         -  2/20\n",
      " 12. [0.9 km] Universitätsring     -  8/38\n",
      " 13. [0.9 km] Volksgarten          -  7/16\n",
      " 14. [1.0 km] Karmeliterplatz      -  4/14\n",
      " 15. [1.0 km] Obere Donaustraße    -  6/20\n",
      " 16. [1.0 km] Wien Mitte           - 16/28\n",
      " 17. [1.0 km] Treitlstraße         - 17/20\n",
      " 18. [1.0 km] Sigmund Freud Park   - 17/36\n",
      " 19. [1.1 km] Schwarzenbergplatz   -  6/20\n",
      " 20. [1.1 km] Museumsplatz         - 28/36\n"
     ]
    }
   ]
  },
  {
   "cell_type": "code",
   "execution_count": 127,
   "outputs": [
    {
     "name": "stdout",
     "output_type": "stream",
     "text": [
      "10 nearest Stations to Giefinggasse 6, Wien:\n",
      "____________________\n",
      "  1. [4.4 km] Millennium Tower     - 24/35\n",
      "  2. [4.6 km] Friedrich Engels Pla - 22/27\n",
      "  3. [5.0 km] Hellwagstraße        -  8/30\n",
      "  4. [5.2 km] Traisengasse         - 17/24\n",
      "  5. [5.6 km] Radingerstraße       - 28/33\n",
      "  6. [5.7 km] Jägerstraße U6       -  8/26\n",
      "  7. [6.0 km] Messeplatz           -  2/40\n",
      "  8. [6.1 km] Wallensteinplatz     - 15/27\n",
      "  9. [6.2 km] Krieau               - 10/24\n",
      " 10. [6.3 km] Heinestraße          - 13/38\n"
     ]
    }
   ],
   "source": [
    "closest_citybikes(\"Giefinggasse 6, Wien\")"
   ],
   "metadata": {
    "collapsed": false,
    "pycharm": {
     "name": "#%%\n"
    }
   }
  },
  {
   "cell_type": "markdown",
   "source": [
    "\n",
    "1. Get the water quality of Austrian lakes from here https://www.ages.at/typo3temp/badegewaesser_db.json and print all the latest available data for Viennese water bodies in a comprehensive form\n",
    "1. Check out the Catalogue of Viennese Energy Lighthouse Projects: \"https://data.wien.gv.at/daten/geo?service=WFS&request=GetFeature&version=1.1.0&typeName=ogdwien:ENINNOVPRJV2OGD%20&srsName=EPSG:4326&outputFormat=json\"\n",
    "1. Browse https://www.data.gv.at/?s=json for more interesting datasets"
   ],
   "metadata": {
    "collapsed": false
   }
  }
 ],
 "metadata": {
  "kernelspec": {
   "display_name": "Python 3",
   "language": "python",
   "name": "python3"
  },
  "language_info": {
   "codemirror_mode": {
    "name": "ipython",
    "version": 2
   },
   "file_extension": ".py",
   "mimetype": "text/x-python",
   "name": "python",
   "nbconvert_exporter": "python",
   "pygments_lexer": "ipython2",
   "version": "2.7.6"
  }
 },
 "nbformat": 4,
 "nbformat_minor": 0
}