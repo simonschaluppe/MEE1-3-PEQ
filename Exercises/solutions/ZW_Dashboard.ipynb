{
 "cells": [
  {
   "cell_type": "code",
   "execution_count": 1,
   "metadata": {
    "collapsed": true
   },
   "outputs": [],
   "source": [
    "import numpy as np\n",
    "import panel as pn\n",
    "from bokeh.plotting import figure, show\n",
    "from targets import Zielwert\n",
    "\n",
    "pn.interact()\n",
    "\n",
    "zw = Zielwert.ZQSynergy()\n",
    "GFZ = np.linspace(0,6,600)"
   ]
  },
  {
   "cell_type": "code",
   "execution_count": 2,
   "outputs": [
    {
     "data": {
      "text/plain": "0.07086956521739886"
     },
     "execution_count": 2,
     "metadata": {},
     "output_type": "execute_result"
    }
   ],
   "source": [
    "zw.alpha(1)"
   ],
   "metadata": {
    "collapsed": false,
    "pycharm": {
     "name": "#%%\n"
    }
   }
  },
  {
   "cell_type": "code",
   "execution_count": 3,
   "outputs": [],
   "source": [
    "from bokeh.models import Label\n",
    "\n",
    "\n",
    "def bokeh_plot(x=1, PEsaldo=100) -> figure:\n",
    "    p = figure(width=500, height=300)\n",
    "    p.line(GFZ, zw.alpha(GFZ), color=\"red\", legend_label=\"ZQ Synergy Zielwert\")\n",
    "    p.line(GFZ, np.zeros(600), color=\"red\")\n",
    "\n",
    "\n",
    "    #zielwert\n",
    "    y=zw.alpha(x)\n",
    "    pw = PEsaldo\n",
    "    diff = pw-y\n",
    "    p.circle(x,y, color=\"red\", size=5, legend_label=\"Zielwert\")\n",
    "    if abs(diff)>20:\n",
    "        p.add_layout(Label(x=x+0.1, y=y, text=f\"{y:.1f} kWh/m²BGF\"))\n",
    "\n",
    "    #projektwert\n",
    "    if diff>=0:\n",
    "        color=\"lime\"\n",
    "    else:\n",
    "        color=\"grey\"\n",
    "    p.line([x,x],[y,pw], color=color, width=2)\n",
    "    p.circle(x,pw, color=color, size=10, legend_label=\"Projektwert\")\n",
    "    t = f\"{pw:.1f} kWh/m²BGF\\n({diff:+.1f})\"\n",
    "    p.add_layout(Label(x=x+0.1, y=pw-10, text=t))\n",
    "    return p\n",
    "\n",
    "#p = bokeh_plot()\n",
    "#app = pn.Column(p)\n",
    "#show(p)"
   ],
   "metadata": {
    "collapsed": false,
    "pycharm": {
     "name": "#%%\n"
    }
   }
  },
  {
   "cell_type": "code",
   "execution_count": 4,
   "outputs": [
    {
     "name": "stdout",
     "output_type": "stream",
     "text": [
      "Launching server at http://localhost:51053\n"
     ]
    },
    {
     "data": {
      "text/plain": "<bokeh.server.server.Server at 0x20eb9e11730>"
     },
     "execution_count": 4,
     "metadata": {},
     "output_type": "execute_result"
    }
   ],
   "source": [
    "pe = pn.widgets.FloatInput(value=0, name=\"PE-Bilanz Projektwert [kWh/m²a]\")\n",
    "xslider = pn.widgets.FloatSlider(start=0,end=6,value=1, name=\"GFZ\")\n",
    "plot = pn.bind(bokeh_plot, xslider, pe)\n",
    "col = pn.Column(\"#ZW Synergy Zielwert\", \"###Primärenergie\", pe, \"Bauliche Dichte\", xslider)\n",
    "#kw = dict(x=(0, GFZ[-1]), PEsaldo=(-200,125))\n",
    "#a = pn.interact(bokeh_plot, **kw)\n",
    "app = pn.Row(col, plot)\n",
    "app.show()\n"
   ],
   "metadata": {
    "collapsed": false,
    "pycharm": {
     "name": "#%%\n"
    }
   }
  },
  {
   "cell_type": "code",
   "execution_count": 5,
   "outputs": [
    {
     "name": "stdout",
     "output_type": "stream",
     "text": [
      "initializing Building object from ..\\..\\data\\building_oib_16linie.xlsx\n"
     ]
    },
    {
     "data": {
      "text/plain": "'\\nGebäude    ..\\\\..\\\\data\\\\building_oib_16linie.xlsx\\nBGF        1440.0 m²BGF\\nPV-Anlage  1 kWp\\nBatterie   1 kWh\\n--- self.simulated=True ------------------------\\n\\n\\nHeizwärmebedarf (QH):        23.6 kWh/m²BGFa\\nKühlbedarf (QC):             49.4 kWh/m²BGFa\\nStrombedarf (ED):            36.6 kWh/m²BGFa\\nPV Eigenverbrauch (PV_use):   0.7 kWh/m²BGFa\\nNetzstrom (ED_grid):         35.9 kWh/m²BGFa\\n--------------------------------------------\\nInvestkosten:                     2500 €\\nBetriebskosten pro Jahr:   (      9811 €/a)\\nBetriebskosten (20 Jahre):      196217 €\\nGesamtkosten:                   198717 €'"
     },
     "execution_count": 5,
     "metadata": {},
     "output_type": "execute_result"
    }
   ],
   "source": [
    "from Simulation import Model\n",
    "from Dashboard import Dashboard\n",
    "\n",
    "m = Model()\n",
    "m.simulate()"
   ],
   "metadata": {
    "collapsed": false,
    "pycharm": {
     "name": "#%%\n"
    }
   }
  },
  {
   "cell_type": "code",
   "execution_count": 6,
   "outputs": [
    {
     "name": "stdout",
     "output_type": "stream",
     "text": [
      "Launching server at http://localhost:51066\n"
     ]
    }
   ],
   "source": [
    "d = Dashboard(m)"
   ],
   "metadata": {
    "collapsed": false,
    "pycharm": {
     "name": "#%%\n"
    }
   }
  },
  {
   "cell_type": "code",
   "execution_count": 9,
   "outputs": [
    {
     "name": "stdout",
     "output_type": "stream",
     "text": [
      "Launching server at http://localhost:51112\n"
     ]
    },
    {
     "data": {
      "text/plain": "<bokeh.server.server.Server at 0x20ebe34f910>"
     },
     "execution_count": 9,
     "metadata": {},
     "output_type": "execute_result"
    }
   ],
   "source": [
    "d.layout.show()"
   ],
   "metadata": {
    "collapsed": false,
    "pycharm": {
     "name": "#%%\n"
    }
   }
  },
  {
   "cell_type": "code",
   "execution_count": 8,
   "outputs": [
    {
     "name": "stdout",
     "output_type": "stream",
     "text": [
      "Launching server at http://localhost:51068\n"
     ]
    },
    {
     "data": {
      "text/plain": "<bokeh.server.server.Server at 0x20ebd171cd0>"
     },
     "execution_count": 8,
     "metadata": {},
     "output_type": "execute_result"
    }
   ],
   "source": [
    "d.inputs.append(col)\n",
    "d.results.append(plot)\n",
    "d.layout.show()"
   ],
   "metadata": {
    "collapsed": false,
    "pycharm": {
     "name": "#%%\n"
    }
   }
  }
 ],
 "metadata": {
  "kernelspec": {
   "name": "pycharm-d5d46a2b",
   "language": "python",
   "display_name": "PyCharm (MEE1-3-PEQ)"
  },
  "language_info": {
   "codemirror_mode": {
    "name": "ipython",
    "version": 2
   },
   "file_extension": ".py",
   "mimetype": "text/x-python",
   "name": "python",
   "nbconvert_exporter": "python",
   "pygments_lexer": "ipython2",
   "version": "2.7.6"
  }
 },
 "nbformat": 4,
 "nbformat_minor": 0
}