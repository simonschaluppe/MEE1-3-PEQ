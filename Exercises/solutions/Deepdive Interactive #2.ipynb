{
 "cells": [],
 "metadata": {
  "kernelspec": {
   "name": "pycharm-d5d46a2b",
   "language": "python",
   "display_name": "PyCharm (MEE1-3-PEQ)"
  },
  "language_info": {
   "codemirror_mode": {
    "name": "ipython",
    "version": 2
   },
   "file_extension": ".py",
   "mimetype": "text/x-python",
   "name": "python",
   "nbconvert_exporter": "python",
   "pygments_lexer": "ipython2",
   "version": "2.7.6"
  }
 },
 "nbformat": 4,
 "nbformat_minor": 0
}