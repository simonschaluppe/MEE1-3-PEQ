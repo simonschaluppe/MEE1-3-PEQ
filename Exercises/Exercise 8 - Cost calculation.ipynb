{
 "cells": [
  {
   "cell_type": "markdown",
   "id": "brilliant-guinea",
   "metadata": {},
   "source": [
    "# Exercise 8 - Cost calculation\n",
    "The final step of the simulation model is to include parameters and methods to calculate the investment, operational and resulting total cost of the System described by the model, like such:\n",
    "\n",
    "$Cost_{total}(years) = Cost_{Investment} + Cost_{Operation} * years$\n",
    "\n",
    "$Cost_{Investment} = Cost_{Diff,Building} + Cost_{PV} + Cost_{Battery}$\n",
    "\n",
    "$Cost_{Operation} = A_{BGF} * (ED_{grid} * {price_{grid}} - PV_{feedin} * {price_{feedin}}) $\n",
    "\n",
    "\n",
    "To this end, you will make the following adjustments:\n",
    "* Add the required parameters (and calculations) to the relevant classes:\n",
    "    * ``Building``: differential_cost from excelsheet \"params\" in €/m²\n",
    "    * ``PV``: cost # €\n",
    "    * ``Battery``: cost # €\n",
    "* Adjust the Model:\n",
    "    * Add a ``calc_cost(self, years=20)`` method, that calculates and saves the operational, investment costs as Model Attributes and return the total_cost \n",
    "        * ``self.operational_cost = ...``\n",
    "        * ``self.investment_cost = ...``\n",
    "        * ``self.total_cost = ...``\n",
    "    * Add the calc_cost() to the end of the Simulation Stack in the simulate() method"
   ]
  },
  {
   "cell_type": "markdown",
   "id": "relative-craps",
   "metadata": {},
   "source": [
    "## Test\n",
    "You should now be able to use your model like this:\n"
   ]
  },
  {
   "cell_type": "code",
   "execution_count": 1,
   "id": "trained-safety",
   "metadata": {},
   "outputs": [
    {
     "ename": "IndentationError",
     "evalue": "unexpected indent (Simulation.py, line 54)",
     "output_type": "error",
     "traceback": [
      "Traceback \u001B[1;36m(most recent call last)\u001B[0m:\n",
      "  File \u001B[0;32m\"C:\\Users\\Simon Schneider\\anaconda\\envs\\Simulation\\lib\\site-packages\\IPython\\core\\interactiveshell.py\"\u001B[0m, line \u001B[0;32m3427\u001B[0m, in \u001B[0;35mrun_code\u001B[0m\n    exec(code_obj, self.user_global_ns, self.user_ns)\n",
      "\u001B[1;36m  File \u001B[1;32m\"<ipython-input-1-746d47c8f9d7>\"\u001B[1;36m, line \u001B[1;32m1\u001B[1;36m, in \u001B[1;35m<module>\u001B[1;36m\u001B[0m\n\u001B[1;33m    from Simulation import Model\u001B[0m\n",
      "\u001B[1;36m  File \u001B[1;32m\"C:\\Users\\Simon Schneider\\PycharmProjects\\MEE-BB-2-SS2021-AS-Simulation\\Simulation\\Work\\Simulation.py\"\u001B[1;36m, line \u001B[1;32m54\u001B[0m\n\u001B[1;33m    for t in range(1, 8760):\u001B[0m\n\u001B[1;37m    ^\u001B[0m\n\u001B[1;31mIndentationError\u001B[0m\u001B[1;31m:\u001B[0m unexpected indent\n"
     ]
    }
   ],
   "source": [
    "from Simulation import Model\n",
    "test = Model(kWp=25, battery_kWh=50)\n",
    "test.simulate()\n",
    "test.calc_cost()"
   ]
  }
 ],
 "metadata": {
  "kernelspec": {
   "display_name": "Simulation",
   "language": "python",
   "name": "simulation"
  },
  "language_info": {
   "codemirror_mode": {
    "name": "ipython",
    "version": 3
   },
   "file_extension": ".py",
   "mimetype": "text/x-python",
   "name": "python",
   "nbconvert_exporter": "python",
   "pygments_lexer": "ipython3",
   "version": "3.8.5"
  },
  "toc": {
   "base_numbering": 1,
   "nav_menu": {},
   "number_sections": true,
   "sideBar": true,
   "skip_h1_title": false,
   "title_cell": "Table of Contents",
   "title_sidebar": "Contents",
   "toc_cell": false,
   "toc_position": {},
   "toc_section_display": true,
   "toc_window_display": false
  }
 },
 "nbformat": 4,
 "nbformat_minor": 5
}