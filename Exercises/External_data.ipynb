{
 "cells": [
  {
   "cell_type": "markdown",
   "metadata": {
    "collapsed": true,
    "pycharm": {
     "name": "#%% md\n"
    }
   },
   "source": [
    "Do the lesson here:\n",
    "\n",
    "https://holypython.com/advanced-python-lessons/lesson-7-apis-with-python/\n",
    "\n",
    "Afterwards, choose one of these API Examples to make sense of publicly available data. Use the skills from the previous exercises to select and reshape the data appropriately:\n",
    "1. Check out available data on citybikes \"http://dynamisch.citybikewien.at/citybike_xml.php?json\"\n",
    "1. Get the water quality of Austrian lakes from here https://www.ages.at/typo3temp/badegewaesser_db.json and print all the latest available data for Viennese water bodies in a comprehensive form\n",
    "1. Check out the Catalogue of Viennese Energy Lighthouse Projects: \"https://data.wien.gv.at/daten/geo?service=WFS&request=GetFeature&version=1.1.0&typeName=ogdwien:ENINNOVPRJV2OGD%20&srsName=EPSG:4326&outputFormat=json\"\n",
    "1. Browse https://www.data.gv.at/?s=json for more interesting datasets"
   ]
  },
  {
   "cell_type": "code",
   "execution_count": 13,
   "outputs": [],
   "source": [],
   "metadata": {
    "collapsed": false,
    "pycharm": {
     "name": "#%%\n"
    }
   }
  }
 ],
 "metadata": {
  "kernelspec": {
   "display_name": "Python 3",
   "language": "python",
   "name": "python3"
  },
  "language_info": {
   "codemirror_mode": {
    "name": "ipython",
    "version": 2
   },
   "file_extension": ".py",
   "mimetype": "text/x-python",
   "name": "python",
   "nbconvert_exporter": "python",
   "pygments_lexer": "ipython2",
   "version": "2.7.6"
  }
 },
 "nbformat": 4,
 "nbformat_minor": 0
}