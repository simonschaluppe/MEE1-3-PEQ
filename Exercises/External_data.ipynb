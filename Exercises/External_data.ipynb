{
 "cells": [
  {
   "cell_type": "markdown",
   "metadata": {
    "collapsed": true,
    "pycharm": {
     "name": "#%% md\n"
    }
   },
   "source": [
    "Do the lesson here:\n",
    "\n",
    "https://holypython.com/advanced-python-lessons/lesson-7-apis-with-python/\n",
    "\n",
    "Afterwards, choose one of these API Examples to make sense of publicly available data. Use the skills from the previous exercises to select and reshape the data appropriately:\n",
    "1. Check out available data on citybikes \"http://dynamisch.citybikewien.at/citybike_xml.php?json\"\n",
    "    * Write a function that lists all the nearest citybike stations to a given location\n",
    "1. Get the water quality of Austrian lakes from here https://www.ages.at/typo3temp/badegewaesser_db.json and print all the latest available data for Viennese water bodies in a comprehensive form\n",
    "1. Check out the Catalogue of Viennese Energy Lighthouse Projects: \"https://data.wien.gv.at/daten/geo?service=WFS&request=GetFeature&version=1.1.0&typeName=ogdwien:ENINNOVPRJV2OGD%20&srsName=EPSG:4326&outputFormat=json\"\n",
    "1. Browse https://www.data.gv.at/?s=json for more interesting datasets"
   ]
  },
  {
   "cell_type": "code",
   "execution_count": 1,
   "metadata": {
    "pycharm": {
     "name": "#%%\n"
    }
   },
   "outputs": [
    {
     "data": {
      "text/plain": [
       "type"
      ]
     },
     "execution_count": 1,
     "metadata": {},
     "output_type": "execute_result"
    }
   ],
   "source": [
    "type(int)"
   ]
  }
 ],
 "metadata": {
  "kernelspec": {
   "display_name": "Python 3",
   "language": "python",
   "name": "python3"
  },
  "language_info": {
   "codemirror_mode": {
    "name": "ipython",
    "version": 3
   },
   "file_extension": ".py",
   "mimetype": "text/x-python",
   "name": "python",
   "nbconvert_exporter": "python",
   "pygments_lexer": "ipython3",
   "version": "3.7.6"
  },
  "toc": {
   "base_numbering": 1,
   "nav_menu": {},
   "number_sections": true,
   "sideBar": true,
   "skip_h1_title": false,
   "title_cell": "Table of Contents",
   "title_sidebar": "Contents",
   "toc_cell": false,
   "toc_position": {},
   "toc_section_display": true,
   "toc_window_display": false
  }
 },
 "nbformat": 4,
 "nbformat_minor": 1
}