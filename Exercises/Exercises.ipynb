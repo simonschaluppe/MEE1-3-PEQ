{
 "cells": [
  {
   "cell_type": "markdown",
   "metadata": {
    "collapsed": true,
    "pycharm": {
     "name": "#%% md\n"
    }
   },
   "source": [
    "# Holy Python\n",
    "## Beginner Exercises\n",
    "https://holypython.com/beginner-python-exercises/"
   ]
  },
  {
   "cell_type": "markdown",
   "source": [
    "### 1 - print() function\n",
    "a, b, c\n",
    "### 2 - variables\n",
    "a, b\n",
    "### 3 Data types\n",
    "a, b, c, d\n",
    "### 4 type conversions\n",
    "a - h\n",
    "### 5 data structures\n",
    "a, b, c, d\n",
    "### 6: Lists\n",
    "a, b, c, d, e\n",
    "### 7: Tuples\n",
    "None\n",
    "### 8: Dictionaries\n",
    "a - e\n",
    "### 9: Strings\n",
    "a-n\n",
    "### 10: len() function\n",
    "\n",
    "### 11: .sort() method\n",
    "### 12: .pop() method\n",
    "### 13: input() function\n",
    "### 14: range() function\n",
    "### 15: Error Handling\n",
    "### 16: Defining Functions\n",
    "### 17: Slicing Notation\n",
    "### 18: Python Operators\n",
    "###"
   ],
   "metadata": {
    "collapsed": false,
    "pycharm": {
     "name": "#%% md\n"
    }
   }
  }
 ],
 "metadata": {
  "kernelspec": {
   "name": "pycharm-d5d46a2b",
   "language": "python",
   "display_name": "PyCharm (MEE1-3-PEQ)"
  },
  "language_info": {
   "codemirror_mode": {
    "name": "ipython",
    "version": 2
   },
   "file_extension": ".py",
   "mimetype": "text/x-python",
   "name": "python",
   "nbconvert_exporter": "python",
   "pygments_lexer": "ipython2",
   "version": "2.7.6"
  }
 },
 "nbformat": 4,
 "nbformat_minor": 0
}