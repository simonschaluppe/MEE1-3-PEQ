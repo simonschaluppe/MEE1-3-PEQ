{
 "cells": [
  {
   "cell_type": "markdown",
   "metadata": {
    "collapsed": true,
    "pycharm": {
     "name": "#%% md\n"
    }
   },
   "source": [
    "# Holy Python\n",
    "## Beginner Exercises\n",
    "https://holypython.com/beginner-python-exercises/"
   ]
  },
  {
   "cell_type": "markdown",
   "source": [
    "### 1 - print() function\n",
    "a, b, c\n",
    "### 2 - variables\n",
    "a, b\n",
    "### 3 Data types\n",
    "a, b, c, d\n",
    "### 4 type conversions\n",
    "a - h\n",
    "### 5 data structures\n",
    "a, b, c, d\n",
    "### 6: Lists\n",
    "a, b, c, d, e\n",
    "### 7: Tuples\n",
    "None\n",
    "### 8: Dictionaries\n",
    "a - e\n",
    "### 9: Strings\n",
    "a-n\n",
    "### 10: len() function\n",
    "a-e\n",
    "### 11: .sort() method\n",
    "a-e\n",
    "### 12: .pop() method\n",
    "None\n",
    "### 13: input() function\n",
    "a-f\n",
    "### 14: range() function\n",
    "a\n",
    "### 15: Error Handling\n",
    "a-g\n",
    "### 16: Defining Functions\n",
    "a-e,i\n",
    "### 17: Slicing Notation\n",
    "a,f,h\n",
    "### 18: Python Operators\n",
    "a,b,c,e,f"
   ],
   "metadata": {
    "collapsed": false,
    "pycharm": {
     "name": "#%% md\n"
    }
   }
  },
  {
   "cell_type": "markdown",
   "source": [
    "## Intermediate\n",
    "https://holypython.com/intermediate-python-exercises/\n",
    "\n",
    "### 1: .format() method\n",
    "None, instead, look up f-Strings\n",
    "### 2: .join() method\n",
    "a,b,e\n",
    "### 3: .split() method\n",
    "a,b,c\n",
    "### 4: .strip() method\n",
    "a,b\n",
    "### 5: dir() function\n",
    "None\n",
    "### 6: Nested Data !!!CRITICAL!!\n",
    "a-e\n",
    "### 7: Conditionals: if - else\n",
    "a,b,e\n",
    "### 8: For Loop\n",
    "a,b,f,h\n",
    "### 9: While Loop\n",
    "None\n",
    "### 10: Break & Continue\n",
    "a, b\n",
    "### 11: Lambda functions\n",
    "NONE!!!\n",
    "### 12: zip() function\n",
    "a, b, c\n",
    "### 13: map() function\n",
    "None\n",
    "### 14: filter()\n",
    "None\n",
    "### 15: sorted()\n",
    "None\n",
    "### 16: List Comprehension\n",
    "None, unless you got some, hun\n",
    "### 17: Dict Comprehension\n",
    "same\n",
    "### 18: help() function\n",
    "yes\n",
    "### 19: Debugging\n",
    "\n",
    "### 20: pass statement\n",
    "a,b,c,d\n",
    "\n"
   ],
   "metadata": {
    "collapsed": false,
    "pycharm": {
     "name": "#%% md\n"
    }
   }
  }
 ],
 "metadata": {
  "kernelspec": {
   "name": "pycharm-d5d46a2b",
   "language": "python",
   "display_name": "PyCharm (MEE1-3-PEQ)"
  },
  "language_info": {
   "codemirror_mode": {
    "name": "ipython",
    "version": 2
   },
   "file_extension": ".py",
   "mimetype": "text/x-python",
   "name": "python",
   "nbconvert_exporter": "python",
   "pygments_lexer": "ipython2",
   "version": "2.7.6"
  }
 },
 "nbformat": 4,
 "nbformat_minor": 0
}